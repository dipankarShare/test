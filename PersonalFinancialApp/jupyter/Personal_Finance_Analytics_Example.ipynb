{
 "cells": [
  {
   "cell_type": "markdown",
   "metadata": {},
   "source": [
    "# 📊 Personal Finance Analytics - Complete Example\n",
    "\n",
    "This notebook demonstrates how to analyze your financial data using the hierarchical category system.\n",
    "\n",
    "## What you'll learn:\n",
    "- Connect to your finance database\n",
    "- Analyze spending patterns by category\n",
    "- Create interactive visualizations\n",
    "- Generate financial insights and reports\n",
    "- Track budget vs actual spending\n",
    "- Identify trends and anomalies"
   ]
  },
  {
   "cell_type": "markdown",
   "metadata": {},
   "source": [
    "## 🔧 Setup and Data Loading"
   ]
  },
  {
   "cell_type": "code",
   "execution_count": 1,
   "metadata": {},
   "outputs": [
    {
     "name": "stdout",
     "output_type": "stream",
     "text": [
      "📚 Libraries loaded successfully!\n"
     ]
    }
   ],
   "source": [
    "# Import required libraries\n",
    "import pandas as pd\n",
    "import numpy as np\n",
    "import plotly.express as px\n",
    "import plotly.graph_objects as go\n",
    "from plotly.subplots import make_subplots\n",
    "import sqlite3\n",
    "import seaborn as sns\n",
    "import matplotlib.pyplot as plt\n",
    "from datetime import datetime, timedelta\n",
    "import warnings\n",
    "warnings.filterwarnings('ignore')\n",
    "\n",
    "# Set up plotting style\n",
    "plt.style.use('dark_background')\n",
    "sns.set_palette(\"husl\")\n",
    "\n",
    "print(\"📚 Libraries loaded successfully!\")"
   ]
  },
  {
   "cell_type": "code",
   "execution_count": 2,
   "metadata": {},
   "outputs": [
    {
     "name": "stdout",
     "output_type": "stream",
     "text": [
      "💰 Loaded 0 transactions\n"
     ]
    },
    {
     "ename": "ValueError",
     "evalue": "NaTType does not support strftime",
     "output_type": "error",
     "traceback": [
      "\u001b[0;31m---------------------------------------------------------------------------\u001b[0m",
      "\u001b[0;31mValueError\u001b[0m                                Traceback (most recent call last)",
      "Cell \u001b[0;32mIn[2], line 36\u001b[0m\n\u001b[1;32m     33\u001b[0m df[\u001b[38;5;124m'\u001b[39m\u001b[38;5;124mabs_amount\u001b[39m\u001b[38;5;124m'\u001b[39m] \u001b[38;5;241m=\u001b[39m df[\u001b[38;5;124m'\u001b[39m\u001b[38;5;124mamount\u001b[39m\u001b[38;5;124m'\u001b[39m]\u001b[38;5;241m.\u001b[39mabs()\n\u001b[1;32m     35\u001b[0m \u001b[38;5;28mprint\u001b[39m(\u001b[38;5;124mf\u001b[39m\u001b[38;5;124m\"\u001b[39m\u001b[38;5;124m💰 Loaded \u001b[39m\u001b[38;5;132;01m{\u001b[39;00m\u001b[38;5;28mlen\u001b[39m(df)\u001b[38;5;132;01m:\u001b[39;00m\u001b[38;5;124m,\u001b[39m\u001b[38;5;132;01m}\u001b[39;00m\u001b[38;5;124m transactions\u001b[39m\u001b[38;5;124m\"\u001b[39m)\n\u001b[0;32m---> 36\u001b[0m \u001b[38;5;28mprint\u001b[39m(\u001b[38;5;124mf\u001b[39m\u001b[38;5;124m\"\u001b[39m\u001b[38;5;124m📅 Date range: \u001b[39m\u001b[38;5;132;01m{\u001b[39;00m\u001b[43mdf\u001b[49m\u001b[43m[\u001b[49m\u001b[38;5;124;43m'\u001b[39;49m\u001b[38;5;124;43mdate\u001b[39;49m\u001b[38;5;124;43m'\u001b[39;49m\u001b[43m]\u001b[49m\u001b[38;5;241;43m.\u001b[39;49m\u001b[43mmin\u001b[49m\u001b[43m(\u001b[49m\u001b[43m)\u001b[49m\u001b[38;5;241;43m.\u001b[39;49m\u001b[43mstrftime\u001b[49m\u001b[43m(\u001b[49m\u001b[38;5;124;43m'\u001b[39;49m\u001b[38;5;124;43m%\u001b[39;49m\u001b[38;5;124;43mY-\u001b[39;49m\u001b[38;5;124;43m%\u001b[39;49m\u001b[38;5;124;43mm-\u001b[39;49m\u001b[38;5;132;43;01m%d\u001b[39;49;00m\u001b[38;5;124;43m'\u001b[39;49m\u001b[43m)\u001b[49m\u001b[38;5;132;01m}\u001b[39;00m\u001b[38;5;124m to \u001b[39m\u001b[38;5;132;01m{\u001b[39;00mdf[\u001b[38;5;124m'\u001b[39m\u001b[38;5;124mdate\u001b[39m\u001b[38;5;124m'\u001b[39m]\u001b[38;5;241m.\u001b[39mmax()\u001b[38;5;241m.\u001b[39mstrftime(\u001b[38;5;124m'\u001b[39m\u001b[38;5;124m%\u001b[39m\u001b[38;5;124mY-\u001b[39m\u001b[38;5;124m%\u001b[39m\u001b[38;5;124mm-\u001b[39m\u001b[38;5;132;01m%d\u001b[39;00m\u001b[38;5;124m'\u001b[39m)\u001b[38;5;132;01m}\u001b[39;00m\u001b[38;5;124m\"\u001b[39m)\n\u001b[1;32m     37\u001b[0m \u001b[38;5;28mprint\u001b[39m(\u001b[38;5;124mf\u001b[39m\u001b[38;5;124m\"\u001b[39m\u001b[38;5;124m🏦 Banks: \u001b[39m\u001b[38;5;132;01m{\u001b[39;00m\u001b[38;5;124m'\u001b[39m\u001b[38;5;124m, \u001b[39m\u001b[38;5;124m'\u001b[39m\u001b[38;5;241m.\u001b[39mjoin(df[\u001b[38;5;124m'\u001b[39m\u001b[38;5;124mbank_name\u001b[39m\u001b[38;5;124m'\u001b[39m]\u001b[38;5;241m.\u001b[39munique())\u001b[38;5;132;01m}\u001b[39;00m\u001b[38;5;124m\"\u001b[39m)\n\u001b[1;32m     38\u001b[0m \u001b[38;5;28mprint\u001b[39m(\u001b[38;5;124mf\u001b[39m\u001b[38;5;124m\"\u001b[39m\u001b[38;5;124m💳 Accounts: \u001b[39m\u001b[38;5;132;01m{\u001b[39;00m\u001b[38;5;124m'\u001b[39m\u001b[38;5;124m, \u001b[39m\u001b[38;5;124m'\u001b[39m\u001b[38;5;241m.\u001b[39mjoin(df[\u001b[38;5;124m'\u001b[39m\u001b[38;5;124maccount_name\u001b[39m\u001b[38;5;124m'\u001b[39m]\u001b[38;5;241m.\u001b[39munique())\u001b[38;5;132;01m}\u001b[39;00m\u001b[38;5;124m\"\u001b[39m)\n",
      "File \u001b[0;32mnattype.pyx:58\u001b[0m, in \u001b[0;36mpandas._libs.tslibs.nattype._make_error_func.f\u001b[0;34m()\u001b[0m\n",
      "\u001b[0;31mValueError\u001b[0m: NaTType does not support strftime"
     ]
    }
   ],
   "source": [
    "# Connect to your finance database\n",
    "conn = sqlite3.connect('data/finance.db')\n",
    "\n",
    "# Load all your financial data\n",
    "query = \"\"\"\n",
    "SELECT \n",
    "    t.id,\n",
    "    t.date,\n",
    "    t.description,\n",
    "    t.amount,\n",
    "    t.category,\n",
    "    t.note,\n",
    "    a.name as account_name,\n",
    "    a.account_type,\n",
    "    b.name as bank_name\n",
    "FROM transactions t\n",
    "JOIN accounts a ON t.account_id = a.id\n",
    "JOIN banks b ON a.bank_id = b.id\n",
    "ORDER BY t.date DESC\n",
    "\"\"\"\n",
    "\n",
    "df = pd.read_sql_query(query, conn)\n",
    "\n",
    "# Data preprocessing\n",
    "df['date'] = pd.to_datetime(df['date'])\n",
    "df['month'] = df['date'].dt.to_period('M')\n",
    "df['year'] = df['date'].dt.year\n",
    "df['day_of_week'] = df['date'].dt.day_name()\n",
    "df['is_weekend'] = df['date'].dt.weekday >= 5\n",
    "\n",
    "# Categorize transactions\n",
    "df['transaction_type'] = df['amount'].apply(lambda x: 'Income' if x > 0 else 'Expense')\n",
    "df['abs_amount'] = df['amount'].abs()\n",
    "\n",
    "print(f\"💰 Loaded {len(df):,} transactions\")\n",
    "print(f\"📅 Date range: {df['date'].min().strftime('%Y-%m-%d')} to {df['date'].max().strftime('%Y-%m-%d')}\")\n",
    "print(f\"🏦 Banks: {', '.join(df['bank_name'].unique())}\")\n",
    "print(f\"💳 Accounts: {', '.join(df['account_name'].unique())}\")\n",
    "\n",
    "df.head()"
   ]
  },
  {
   "cell_type": "code",
   "execution_count": null,
   "metadata": {},
   "outputs": [],
   "source": [
    "# Load predefined categories for reference\n",
    "categories_query = \"\"\"\n",
    "SELECT category_path, level_1, level_2, level_3, level_4, display_name\n",
    "FROM predefined_categories\n",
    "ORDER BY category_path\n",
    "\"\"\"\n",
    "\n",
    "categories_df = pd.read_sql_query(categories_query, conn)\n",
    "print(f\"📋 Available categories: {len(categories_df)}\")\n",
    "print(\"\\n🏷️ Main category types:\")\n",
    "for cat in categories_df['level_1'].unique():\n",
    "    count = len(categories_df[categories_df['level_1'] == cat])\n",
    "    print(f\"   • {cat}: {count} subcategories\")"
   ]
  },
  {
   "cell_type": "markdown",
   "metadata": {},
   "source": [
    "## 📈 Financial Overview Dashboard"
   ]
  },
  {
   "cell_type": "code",
   "execution_count": 3,
   "metadata": {},
   "outputs": [
    {
     "name": "stdout",
     "output_type": "stream",
     "text": [
      "💰 FINANCIAL SUMMARY\n",
      "==================================================\n",
      "Total Income:        $        0.00\n",
      "Total Expenses:      $        0.00\n",
      "Net Change:          $        0.00\n",
      "Avg Monthly Income:  $         nan\n",
      "Avg Monthly Expenses:$         nan\n"
     ]
    },
    {
     "ename": "ZeroDivisionError",
     "evalue": "division by zero",
     "output_type": "error",
     "traceback": [
      "\u001b[0;31m---------------------------------------------------------------------------\u001b[0m",
      "\u001b[0;31mZeroDivisionError\u001b[0m                         Traceback (most recent call last)",
      "Cell \u001b[0;32mIn[3], line 15\u001b[0m\n\u001b[1;32m     13\u001b[0m \u001b[38;5;28mprint\u001b[39m(\u001b[38;5;124mf\u001b[39m\u001b[38;5;124m\"\u001b[39m\u001b[38;5;124mAvg Monthly Income:  $\u001b[39m\u001b[38;5;132;01m{\u001b[39;00mavg_monthly_income\u001b[38;5;132;01m:\u001b[39;00m\u001b[38;5;124m>12,.2f\u001b[39m\u001b[38;5;132;01m}\u001b[39;00m\u001b[38;5;124m\"\u001b[39m)\n\u001b[1;32m     14\u001b[0m \u001b[38;5;28mprint\u001b[39m(\u001b[38;5;124mf\u001b[39m\u001b[38;5;124m\"\u001b[39m\u001b[38;5;124mAvg Monthly Expenses:$\u001b[39m\u001b[38;5;132;01m{\u001b[39;00m\u001b[38;5;28mabs\u001b[39m(avg_monthly_expenses)\u001b[38;5;132;01m:\u001b[39;00m\u001b[38;5;124m>12,.2f\u001b[39m\u001b[38;5;132;01m}\u001b[39;00m\u001b[38;5;124m\"\u001b[39m)\n\u001b[0;32m---> 15\u001b[0m \u001b[38;5;28mprint\u001b[39m(\u001b[38;5;124mf\u001b[39m\u001b[38;5;124m\"\u001b[39m\u001b[38;5;124mSavings Rate:        \u001b[39m\u001b[38;5;132;01m{\u001b[39;00m(\u001b[43mnet_worth_change\u001b[49m\u001b[38;5;241;43m/\u001b[39;49m\u001b[43mtotal_income\u001b[49m\u001b[38;5;241m*\u001b[39m\u001b[38;5;241m100\u001b[39m)\u001b[38;5;132;01m:\u001b[39;00m\u001b[38;5;124m>11.1f\u001b[39m\u001b[38;5;132;01m}\u001b[39;00m\u001b[38;5;124m%\u001b[39m\u001b[38;5;124m\"\u001b[39m)\n\u001b[1;32m     17\u001b[0m \u001b[38;5;66;03m# Create overview visualization\u001b[39;00m\n\u001b[1;32m     18\u001b[0m fig \u001b[38;5;241m=\u001b[39m make_subplots(\n\u001b[1;32m     19\u001b[0m     rows\u001b[38;5;241m=\u001b[39m\u001b[38;5;241m2\u001b[39m, cols\u001b[38;5;241m=\u001b[39m\u001b[38;5;241m2\u001b[39m,\n\u001b[1;32m     20\u001b[0m     subplot_titles\u001b[38;5;241m=\u001b[39m(\u001b[38;5;124m'\u001b[39m\u001b[38;5;124mIncome vs Expenses\u001b[39m\u001b[38;5;124m'\u001b[39m, \u001b[38;5;124m'\u001b[39m\u001b[38;5;124mMonthly Trends\u001b[39m\u001b[38;5;124m'\u001b[39m, \u001b[38;5;124m'\u001b[39m\u001b[38;5;124mTransaction Types\u001b[39m\u001b[38;5;124m'\u001b[39m, \u001b[38;5;124m'\u001b[39m\u001b[38;5;124mAccount Balances\u001b[39m\u001b[38;5;124m'\u001b[39m),\n\u001b[1;32m     21\u001b[0m     specs\u001b[38;5;241m=\u001b[39m[[{\u001b[38;5;124m\"\u001b[39m\u001b[38;5;124mtype\u001b[39m\u001b[38;5;124m\"\u001b[39m: \u001b[38;5;124m\"\u001b[39m\u001b[38;5;124mbar\u001b[39m\u001b[38;5;124m\"\u001b[39m}, {\u001b[38;5;124m\"\u001b[39m\u001b[38;5;124mtype\u001b[39m\u001b[38;5;124m\"\u001b[39m: \u001b[38;5;124m\"\u001b[39m\u001b[38;5;124mscatter\u001b[39m\u001b[38;5;124m\"\u001b[39m}],\n\u001b[1;32m     22\u001b[0m            [{\u001b[38;5;124m\"\u001b[39m\u001b[38;5;124mtype\u001b[39m\u001b[38;5;124m\"\u001b[39m: \u001b[38;5;124m\"\u001b[39m\u001b[38;5;124mpie\u001b[39m\u001b[38;5;124m\"\u001b[39m}, {\u001b[38;5;124m\"\u001b[39m\u001b[38;5;124mtype\u001b[39m\u001b[38;5;124m\"\u001b[39m: \u001b[38;5;124m\"\u001b[39m\u001b[38;5;124mbar\u001b[39m\u001b[38;5;124m\"\u001b[39m}]]\n\u001b[1;32m     23\u001b[0m )\n",
      "\u001b[0;31mZeroDivisionError\u001b[0m: division by zero"
     ]
    }
   ],
   "source": [
    "# Calculate key financial metrics\n",
    "total_income = df[df['amount'] > 0]['amount'].sum()\n",
    "total_expenses = df[df['amount'] < 0]['amount'].sum()\n",
    "net_worth_change = total_income + total_expenses\n",
    "avg_monthly_income = df[df['amount'] > 0].groupby('month')['amount'].sum().mean()\n",
    "avg_monthly_expenses = df[df['amount'] < 0].groupby('month')['amount'].sum().mean()\n",
    "\n",
    "print(\"💰 FINANCIAL SUMMARY\")\n",
    "print(\"=\" * 50)\n",
    "print(f\"Total Income:        ${total_income:>12,.2f}\")\n",
    "print(f\"Total Expenses:      ${abs(total_expenses):>12,.2f}\")\n",
    "print(f\"Net Change:          ${net_worth_change:>12,.2f}\")\n",
    "print(f\"Avg Monthly Income:  ${avg_monthly_income:>12,.2f}\")\n",
    "print(f\"Avg Monthly Expenses:${abs(avg_monthly_expenses):>12,.2f}\")\n",
    "print(f\"Savings Rate:        {(net_worth_change/total_income*100):>11.1f}%\")\n",
    "\n",
    "# Create overview visualization\n",
    "fig = make_subplots(\n",
    "    rows=2, cols=2,\n",
    "    subplot_titles=('Income vs Expenses', 'Monthly Trends', 'Transaction Types', 'Account Balances'),\n",
    "    specs=[[{\"type\": \"bar\"}, {\"type\": \"scatter\"}],\n",
    "           [{\"type\": \"pie\"}, {\"type\": \"bar\"}]]\n",
    ")\n",
    "\n",
    "# Income vs Expenses\n",
    "fig.add_trace(\n",
    "    go.Bar(x=['Income', 'Expenses'], y=[total_income, abs(total_expenses)],\n",
    "           marker_color=['green', 'red'], name='Amount'),\n",
    "    row=1, col=1\n",
    ")\n",
    "\n",
    "# Monthly trends\n",
    "monthly_data = df.groupby(['month', 'transaction_type'])['amount'].sum().unstack(fill_value=0)\n",
    "fig.add_trace(\n",
    "    go.Scatter(x=monthly_data.index.astype(str), y=monthly_data.get('Income', 0),\n",
    "               mode='lines+markers', name='Income', line=dict(color='green')),\n",
    "    row=1, col=2\n",
    ")\n",
    "fig.add_trace(\n",
    "    go.Scatter(x=monthly_data.index.astype(str), y=abs(monthly_data.get('Expense', 0)),\n",
    "               mode='lines+markers', name='Expenses', line=dict(color='red')),\n",
    "    row=1, col=2\n",
    ")\n",
    "\n",
    "# Transaction types pie chart\n",
    "type_counts = df['transaction_type'].value_counts()\n",
    "fig.add_trace(\n",
    "    go.Pie(labels=type_counts.index, values=type_counts.values, name=\"Transaction Types\"),\n",
    "    row=2, col=1\n",
    ")\n",
    "\n",
    "# Account balances\n",
    "account_balances = df.groupby('account_name')['amount'].sum()\n",
    "fig.add_trace(\n",
    "    go.Bar(x=account_balances.index, y=account_balances.values,\n",
    "           marker_color='blue', name='Balance'),\n",
    "    row=2, col=2\n",
    ")\n",
    "\n",
    "fig.update_layout(height=800, title_text=\"📊 Financial Dashboard Overview\")\n",
    "fig.show()"
   ]
  },
  {
   "cell_type": "markdown",
   "metadata": {},
   "source": [
    "## 🏷️ Category Analysis with Hierarchical Data"
   ]
  },
  {
   "cell_type": "code",
   "execution_count": 5,
   "metadata": {},
   "outputs": [
    {
     "name": "stdout",
     "output_type": "stream",
     "text": [
      "💸 TOP SPENDING CATEGORIES\n",
      "============================================================\n",
      "Category                  Total        Count    Avg       \n",
      "------------------------------------------------------------\n",
      "Credit Card Payment       $ 37,595.69    9.0 $4,177.30\n",
      "Bank Transfer             $ 20,000.00    1.0 $20,000.00\n",
      "Uncategorized             $    525.78    5.0 $  105.16\n"
     ]
    },
    {
     "data": {
      "application/vnd.plotly.v1+json": {
       "config": {
        "plotlyServerURL": "https://plot.ly"
       },
       "data": [
        {
         "domain": {
          "x": [
           0,
           0.45
          ],
          "y": [
           0.625,
           1
          ]
         },
         "labels": [
          "Credit Card Payment",
          "Bank Transfer",
          "Uncategorized"
         ],
         "name": "Spending",
         "type": "pie",
         "values": {
          "_inputArray": {
           "0": 37595.69,
           "1": 20000,
           "2": 525.78,
           "bdata": "SOF6FHZb4kAAAAAAAIjTQArXo3A9boBA",
           "dtype": "f8",
           "shape": "3"
          },
          "bdata": "SOF6FHZb4kAAAAAAAIjTQArXo3A9boBA",
          "dtype": "f8"
         }
        },
        {
         "marker": {
          "color": "lightblue"
         },
         "name": "Count",
         "type": "bar",
         "x": [
          "Credit Card Payment",
          "Bank Transfer",
          "Uncategorized"
         ],
         "xaxis": "x",
         "y": {
          "_inputArray": {
           "0": 9,
           "1": 1,
           "2": 5,
           "bdata": "CQEF",
           "dtype": "i1",
           "shape": "3"
          },
          "bdata": "CQEF",
          "dtype": "i1"
         },
         "yaxis": "y"
        },
        {
         "marker": {
          "color": "orange"
         },
         "name": "Avg Amount",
         "type": "bar",
         "x": [
          "Credit Card Payment",
          "Bank Transfer",
          "Uncategorized"
         ],
         "xaxis": "x2",
         "y": {
          "_inputArray": {
           "0": 4177.3,
           "1": 20000,
           "2": 105.16,
           "bdata": "zczMzExRsEAAAAAAAIjTQArXo3A9SlpA",
           "dtype": "f8",
           "shape": "3"
          },
          "bdata": "zczMzExRsEAAAAAAAIjTQArXo3A9SlpA",
          "dtype": "f8"
         },
         "yaxis": "y2"
        },
        {
         "mode": "lines+markers",
         "name": "Credit Card Payment Trend",
         "type": "scatter",
         "x": [
          "2025-07",
          "2025-08"
         ],
         "xaxis": "x3",
         "y": {
          "_inputArray": {
           "0": 3906.57,
           "1": 33689.119999999995,
           "bdata": "cT0K1yOFrkBwPQrXI3PgQA==",
           "dtype": "f8",
           "shape": "2"
          },
          "bdata": "cT0K1yOFrkBwPQrXI3PgQA==",
          "dtype": "f8"
         },
         "yaxis": "y3"
        }
       ],
       "layout": {
        "annotations": [
         {
          "font": {
           "size": 16
          },
          "showarrow": false,
          "text": "Spending by Category",
          "x": 0.225,
          "xanchor": "center",
          "xref": "paper",
          "y": 1,
          "yanchor": "bottom",
          "yref": "paper"
         },
         {
          "font": {
           "size": 16
          },
          "showarrow": false,
          "text": "Transaction Count by Category",
          "x": 0.775,
          "xanchor": "center",
          "xref": "paper",
          "y": 1,
          "yanchor": "bottom",
          "yref": "paper"
         },
         {
          "font": {
           "size": 16
          },
          "showarrow": false,
          "text": "Average Transaction Size",
          "x": 0.225,
          "xanchor": "center",
          "xref": "paper",
          "y": 0.375,
          "yanchor": "bottom",
          "yref": "paper"
         },
         {
          "font": {
           "size": 16
          },
          "showarrow": false,
          "text": "Monthly Category Trends",
          "x": 0.775,
          "xanchor": "center",
          "xref": "paper",
          "y": 0.375,
          "yanchor": "bottom",
          "yref": "paper"
         }
        ],
        "autosize": true,
        "template": {
         "data": {
          "bar": [
           {
            "error_x": {
             "color": "#2a3f5f"
            },
            "error_y": {
             "color": "#2a3f5f"
            },
            "marker": {
             "line": {
              "color": "#E5ECF6",
              "width": 0.5
             },
             "pattern": {
              "fillmode": "overlay",
              "size": 10,
              "solidity": 0.2
             }
            },
            "type": "bar"
           }
          ],
          "barpolar": [
           {
            "marker": {
             "line": {
              "color": "#E5ECF6",
              "width": 0.5
             },
             "pattern": {
              "fillmode": "overlay",
              "size": 10,
              "solidity": 0.2
             }
            },
            "type": "barpolar"
           }
          ],
          "carpet": [
           {
            "aaxis": {
             "endlinecolor": "#2a3f5f",
             "gridcolor": "white",
             "linecolor": "white",
             "minorgridcolor": "white",
             "startlinecolor": "#2a3f5f"
            },
            "baxis": {
             "endlinecolor": "#2a3f5f",
             "gridcolor": "white",
             "linecolor": "white",
             "minorgridcolor": "white",
             "startlinecolor": "#2a3f5f"
            },
            "type": "carpet"
           }
          ],
          "choropleth": [
           {
            "colorbar": {
             "outlinewidth": 0,
             "ticks": ""
            },
            "type": "choropleth"
           }
          ],
          "contour": [
           {
            "colorbar": {
             "outlinewidth": 0,
             "ticks": ""
            },
            "colorscale": [
             [
              0,
              "#0d0887"
             ],
             [
              0.1111111111111111,
              "#46039f"
             ],
             [
              0.2222222222222222,
              "#7201a8"
             ],
             [
              0.3333333333333333,
              "#9c179e"
             ],
             [
              0.4444444444444444,
              "#bd3786"
             ],
             [
              0.5555555555555556,
              "#d8576b"
             ],
             [
              0.6666666666666666,
              "#ed7953"
             ],
             [
              0.7777777777777778,
              "#fb9f3a"
             ],
             [
              0.8888888888888888,
              "#fdca26"
             ],
             [
              1,
              "#f0f921"
             ]
            ],
            "type": "contour"
           }
          ],
          "contourcarpet": [
           {
            "colorbar": {
             "outlinewidth": 0,
             "ticks": ""
            },
            "type": "contourcarpet"
           }
          ],
          "heatmap": [
           {
            "colorbar": {
             "outlinewidth": 0,
             "ticks": ""
            },
            "colorscale": [
             [
              0,
              "#0d0887"
             ],
             [
              0.1111111111111111,
              "#46039f"
             ],
             [
              0.2222222222222222,
              "#7201a8"
             ],
             [
              0.3333333333333333,
              "#9c179e"
             ],
             [
              0.4444444444444444,
              "#bd3786"
             ],
             [
              0.5555555555555556,
              "#d8576b"
             ],
             [
              0.6666666666666666,
              "#ed7953"
             ],
             [
              0.7777777777777778,
              "#fb9f3a"
             ],
             [
              0.8888888888888888,
              "#fdca26"
             ],
             [
              1,
              "#f0f921"
             ]
            ],
            "type": "heatmap"
           }
          ],
          "histogram": [
           {
            "marker": {
             "pattern": {
              "fillmode": "overlay",
              "size": 10,
              "solidity": 0.2
             }
            },
            "type": "histogram"
           }
          ],
          "histogram2d": [
           {
            "colorbar": {
             "outlinewidth": 0,
             "ticks": ""
            },
            "colorscale": [
             [
              0,
              "#0d0887"
             ],
             [
              0.1111111111111111,
              "#46039f"
             ],
             [
              0.2222222222222222,
              "#7201a8"
             ],
             [
              0.3333333333333333,
              "#9c179e"
             ],
             [
              0.4444444444444444,
              "#bd3786"
             ],
             [
              0.5555555555555556,
              "#d8576b"
             ],
             [
              0.6666666666666666,
              "#ed7953"
             ],
             [
              0.7777777777777778,
              "#fb9f3a"
             ],
             [
              0.8888888888888888,
              "#fdca26"
             ],
             [
              1,
              "#f0f921"
             ]
            ],
            "type": "histogram2d"
           }
          ],
          "histogram2dcontour": [
           {
            "colorbar": {
             "outlinewidth": 0,
             "ticks": ""
            },
            "colorscale": [
             [
              0,
              "#0d0887"
             ],
             [
              0.1111111111111111,
              "#46039f"
             ],
             [
              0.2222222222222222,
              "#7201a8"
             ],
             [
              0.3333333333333333,
              "#9c179e"
             ],
             [
              0.4444444444444444,
              "#bd3786"
             ],
             [
              0.5555555555555556,
              "#d8576b"
             ],
             [
              0.6666666666666666,
              "#ed7953"
             ],
             [
              0.7777777777777778,
              "#fb9f3a"
             ],
             [
              0.8888888888888888,
              "#fdca26"
             ],
             [
              1,
              "#f0f921"
             ]
            ],
            "type": "histogram2dcontour"
           }
          ],
          "mesh3d": [
           {
            "colorbar": {
             "outlinewidth": 0,
             "ticks": ""
            },
            "type": "mesh3d"
           }
          ],
          "parcoords": [
           {
            "line": {
             "colorbar": {
              "outlinewidth": 0,
              "ticks": ""
             }
            },
            "type": "parcoords"
           }
          ],
          "pie": [
           {
            "automargin": true,
            "type": "pie"
           }
          ],
          "scatter": [
           {
            "fillpattern": {
             "fillmode": "overlay",
             "size": 10,
             "solidity": 0.2
            },
            "type": "scatter"
           }
          ],
          "scatter3d": [
           {
            "line": {
             "colorbar": {
              "outlinewidth": 0,
              "ticks": ""
             }
            },
            "marker": {
             "colorbar": {
              "outlinewidth": 0,
              "ticks": ""
             }
            },
            "type": "scatter3d"
           }
          ],
          "scattercarpet": [
           {
            "marker": {
             "colorbar": {
              "outlinewidth": 0,
              "ticks": ""
             }
            },
            "type": "scattercarpet"
           }
          ],
          "scattergeo": [
           {
            "marker": {
             "colorbar": {
              "outlinewidth": 0,
              "ticks": ""
             }
            },
            "type": "scattergeo"
           }
          ],
          "scattergl": [
           {
            "marker": {
             "colorbar": {
              "outlinewidth": 0,
              "ticks": ""
             }
            },
            "type": "scattergl"
           }
          ],
          "scattermap": [
           {
            "marker": {
             "colorbar": {
              "outlinewidth": 0,
              "ticks": ""
             }
            },
            "type": "scattermap"
           }
          ],
          "scattermapbox": [
           {
            "marker": {
             "colorbar": {
              "outlinewidth": 0,
              "ticks": ""
             }
            },
            "type": "scattermapbox"
           }
          ],
          "scatterpolar": [
           {
            "marker": {
             "colorbar": {
              "outlinewidth": 0,
              "ticks": ""
             }
            },
            "type": "scatterpolar"
           }
          ],
          "scatterpolargl": [
           {
            "marker": {
             "colorbar": {
              "outlinewidth": 0,
              "ticks": ""
             }
            },
            "type": "scatterpolargl"
           }
          ],
          "scatterternary": [
           {
            "marker": {
             "colorbar": {
              "outlinewidth": 0,
              "ticks": ""
             }
            },
            "type": "scatterternary"
           }
          ],
          "surface": [
           {
            "colorbar": {
             "outlinewidth": 0,
             "ticks": ""
            },
            "colorscale": [
             [
              0,
              "#0d0887"
             ],
             [
              0.1111111111111111,
              "#46039f"
             ],
             [
              0.2222222222222222,
              "#7201a8"
             ],
             [
              0.3333333333333333,
              "#9c179e"
             ],
             [
              0.4444444444444444,
              "#bd3786"
             ],
             [
              0.5555555555555556,
              "#d8576b"
             ],
             [
              0.6666666666666666,
              "#ed7953"
             ],
             [
              0.7777777777777778,
              "#fb9f3a"
             ],
             [
              0.8888888888888888,
              "#fdca26"
             ],
             [
              1,
              "#f0f921"
             ]
            ],
            "type": "surface"
           }
          ],
          "table": [
           {
            "cells": {
             "fill": {
              "color": "#EBF0F8"
             },
             "line": {
              "color": "white"
             }
            },
            "header": {
             "fill": {
              "color": "#C8D4E3"
             },
             "line": {
              "color": "white"
             }
            },
            "type": "table"
           }
          ]
         },
         "layout": {
          "annotationdefaults": {
           "arrowcolor": "#2a3f5f",
           "arrowhead": 0,
           "arrowwidth": 1
          },
          "autotypenumbers": "strict",
          "coloraxis": {
           "colorbar": {
            "outlinewidth": 0,
            "ticks": ""
           }
          },
          "colorscale": {
           "diverging": [
            [
             0,
             "#8e0152"
            ],
            [
             0.1,
             "#c51b7d"
            ],
            [
             0.2,
             "#de77ae"
            ],
            [
             0.3,
             "#f1b6da"
            ],
            [
             0.4,
             "#fde0ef"
            ],
            [
             0.5,
             "#f7f7f7"
            ],
            [
             0.6,
             "#e6f5d0"
            ],
            [
             0.7,
             "#b8e186"
            ],
            [
             0.8,
             "#7fbc41"
            ],
            [
             0.9,
             "#4d9221"
            ],
            [
             1,
             "#276419"
            ]
           ],
           "sequential": [
            [
             0,
             "#0d0887"
            ],
            [
             0.1111111111111111,
             "#46039f"
            ],
            [
             0.2222222222222222,
             "#7201a8"
            ],
            [
             0.3333333333333333,
             "#9c179e"
            ],
            [
             0.4444444444444444,
             "#bd3786"
            ],
            [
             0.5555555555555556,
             "#d8576b"
            ],
            [
             0.6666666666666666,
             "#ed7953"
            ],
            [
             0.7777777777777778,
             "#fb9f3a"
            ],
            [
             0.8888888888888888,
             "#fdca26"
            ],
            [
             1,
             "#f0f921"
            ]
           ],
           "sequentialminus": [
            [
             0,
             "#0d0887"
            ],
            [
             0.1111111111111111,
             "#46039f"
            ],
            [
             0.2222222222222222,
             "#7201a8"
            ],
            [
             0.3333333333333333,
             "#9c179e"
            ],
            [
             0.4444444444444444,
             "#bd3786"
            ],
            [
             0.5555555555555556,
             "#d8576b"
            ],
            [
             0.6666666666666666,
             "#ed7953"
            ],
            [
             0.7777777777777778,
             "#fb9f3a"
            ],
            [
             0.8888888888888888,
             "#fdca26"
            ],
            [
             1,
             "#f0f921"
            ]
           ]
          },
          "colorway": [
           "#636efa",
           "#EF553B",
           "#00cc96",
           "#ab63fa",
           "#FFA15A",
           "#19d3f3",
           "#FF6692",
           "#B6E880",
           "#FF97FF",
           "#FECB52"
          ],
          "font": {
           "color": "#2a3f5f"
          },
          "geo": {
           "bgcolor": "white",
           "lakecolor": "white",
           "landcolor": "#E5ECF6",
           "showlakes": true,
           "showland": true,
           "subunitcolor": "white"
          },
          "hoverlabel": {
           "align": "left"
          },
          "hovermode": "closest",
          "mapbox": {
           "style": "light"
          },
          "paper_bgcolor": "white",
          "plot_bgcolor": "#E5ECF6",
          "polar": {
           "angularaxis": {
            "gridcolor": "white",
            "linecolor": "white",
            "ticks": ""
           },
           "bgcolor": "#E5ECF6",
           "radialaxis": {
            "gridcolor": "white",
            "linecolor": "white",
            "ticks": ""
           }
          },
          "scene": {
           "xaxis": {
            "backgroundcolor": "#E5ECF6",
            "gridcolor": "white",
            "gridwidth": 2,
            "linecolor": "white",
            "showbackground": true,
            "ticks": "",
            "zerolinecolor": "white"
           },
           "yaxis": {
            "backgroundcolor": "#E5ECF6",
            "gridcolor": "white",
            "gridwidth": 2,
            "linecolor": "white",
            "showbackground": true,
            "ticks": "",
            "zerolinecolor": "white"
           },
           "zaxis": {
            "backgroundcolor": "#E5ECF6",
            "gridcolor": "white",
            "gridwidth": 2,
            "linecolor": "white",
            "showbackground": true,
            "ticks": "",
            "zerolinecolor": "white"
           }
          },
          "shapedefaults": {
           "line": {
            "color": "#2a3f5f"
           }
          },
          "ternary": {
           "aaxis": {
            "gridcolor": "white",
            "linecolor": "white",
            "ticks": ""
           },
           "baxis": {
            "gridcolor": "white",
            "linecolor": "white",
            "ticks": ""
           },
           "bgcolor": "#E5ECF6",
           "caxis": {
            "gridcolor": "white",
            "linecolor": "white",
            "ticks": ""
           }
          },
          "title": {
           "x": 0.05
          },
          "xaxis": {
           "automargin": true,
           "gridcolor": "white",
           "linecolor": "white",
           "ticks": "",
           "title": {
            "standoff": 15
           },
           "zerolinecolor": "white",
           "zerolinewidth": 2
          },
          "yaxis": {
           "automargin": true,
           "gridcolor": "white",
           "linecolor": "white",
           "ticks": "",
           "title": {
            "standoff": 15
           },
           "zerolinecolor": "white",
           "zerolinewidth": 2
          }
         }
        },
        "title": {
         "text": "🏷️ Category Analysis Dashboard"
        },
        "xaxis": {
         "anchor": "y",
         "autorange": true,
         "domain": [
          0.55,
          1
         ],
         "range": [
          -0.5,
          2.5
         ],
         "type": "category"
        },
        "xaxis2": {
         "anchor": "y2",
         "autorange": true,
         "domain": [
          0,
          0.45
         ],
         "range": [
          -0.5,
          2.5
         ],
         "type": "category"
        },
        "xaxis3": {
         "anchor": "y3",
         "autorange": true,
         "domain": [
          0.55,
          1
         ],
         "range": [
          "2025-06-28 20:45:28.5228",
          "2025-08-03 03:14:31.4772"
         ],
         "type": "date"
        },
        "yaxis": {
         "anchor": "x",
         "autorange": true,
         "domain": [
          0.625,
          1
         ],
         "range": [
          0,
          9.473684210526315
         ],
         "type": "linear"
        },
        "yaxis2": {
         "anchor": "x2",
         "autorange": true,
         "domain": [
          0,
          0.375
         ],
         "range": [
          0,
          21052.63157894737
         ],
         "type": "linear"
        },
        "yaxis3": {
         "anchor": "x3",
         "autorange": true,
         "domain": [
          0,
          0.375
         ],
         "range": [
          1636.896115241636,
          35958.79388475836
         ],
         "type": "linear"
        }
       }
      },
      "image/png": "[encoded data removed]"
     },
     "metadata": {},
     "output_type": "display_data"
    }
   ],
   "source": [
    "# Analyze spending by category\n",
    "expense_data = df[df['amount'] < 0].copy()\n",
    "category_spending = expense_data.groupby('category')['abs_amount'].agg(['sum', 'count', 'mean']).round(2)\n",
    "category_spending.columns = ['Total_Spent', 'Transaction_Count', 'Avg_Transaction']\n",
    "category_spending = category_spending.sort_values('Total_Spent', ascending=False)\n",
    "\n",
    "print(\"💸 TOP SPENDING CATEGORIES\")\n",
    "print(\"=\" * 60)\n",
    "print(f\"{'Category':<25} {'Total':<12} {'Count':<8} {'Avg':<10}\")\n",
    "print(\"-\" * 60)\n",
    "for idx, (category, row) in enumerate(category_spending.head(10).iterrows()):\n",
    "    print(f\"{category:<25} ${row['Total_Spent']:>10,.2f} {row['Transaction_Count']:>6} ${row['Avg_Transaction']:>8,.2f}\")\n",
    "\n",
    "# Create interactive category visualization\n",
    "fig = make_subplots(\n",
    "    rows=2, cols=2,\n",
    "    subplot_titles=('Spending by Category', 'Transaction Count by Category', \n",
    "                   'Average Transaction Size', 'Monthly Category Trends'),\n",
    "    specs=[[{\"type\": \"pie\"}, {\"type\": \"bar\"}],\n",
    "           [{\"type\": \"bar\"}, {\"type\": \"scatter\"}]]\n",
    ")\n",
    "\n",
    "# Top categories pie chart\n",
    "top_categories = category_spending.head(8)\n",
    "fig.add_trace(\n",
    "    go.Pie(labels=top_categories.index, values=top_categories['Total_Spent'],\n",
    "           name=\"Spending\"),\n",
    "    row=1, col=1\n",
    ")\n",
    "\n",
    "# Transaction count by category\n",
    "fig.add_trace(\n",
    "    go.Bar(x=top_categories.index, y=top_categories['Transaction_Count'],\n",
    "           marker_color='lightblue', name='Count'),\n",
    "    row=1, col=2\n",
    ")\n",
    "\n",
    "# Average transaction size\n",
    "fig.add_trace(\n",
    "    go.Bar(x=top_categories.index, y=top_categories['Avg_Transaction'],\n",
    "           marker_color='orange', name='Avg Amount'),\n",
    "    row=2, col=1\n",
    ")\n",
    "\n",
    "# Monthly trends for top category\n",
    "top_category = category_spending.index[0]\n",
    "monthly_category = expense_data[expense_data['category'] == top_category].groupby('month')['abs_amount'].sum()\n",
    "fig.add_trace(\n",
    "    go.Scatter(x=monthly_category.index.astype(str), y=monthly_category.values,\n",
    "               mode='lines+markers', name=f'{top_category} Trend'),\n",
    "    row=2, col=2\n",
    ")\n",
    "\n",
    "fig.update_layout(height=800, title_text=\"🏷️ Category Analysis Dashboard\")\n",
    "fig.show()"
   ]
  },
  {
   "cell_type": "markdown",
   "metadata": {},
   "source": [
    "## 📅 Time-Based Analysis"
   ]
  },
  {
   "cell_type": "code",
   "execution_count": 6,
   "metadata": {},
   "outputs": [
    {
     "name": "stdout",
     "output_type": "stream",
     "text": [
      "📅 MONTHLY FINANCIAL SUMMARY\n",
      "================================================================================\n",
      "Month      Income       Expenses     Net          Savings % \n",
      "--------------------------------------------------------------------------------\n",
      "2025-07    $     3,492 $     4,194 $      -702    -20.1%\n",
      "2025-08    $    66,421 $    53,927 $    12,494     18.8%\n"
     ]
    },
    {
     "data": {
      "application/vnd.plotly.v1+json": {
       "config": {
        "plotlyServerURL": "https://plot.ly"
       },
       "data": [
        {
         "marker": {
          "color": "green"
         },
         "name": "Income",
         "type": "bar",
         "x": [
          "2025-07",
          "2025-08"
         ],
         "xaxis": "x",
         "y": {
          "_inputArray": {
           "0": 3492.01,
           "1": 66420.51,
           "bdata": "7FG4HgVIq0CPwvUoSDfwQA==",
           "dtype": "f8",
           "shape": "2"
          },
          "bdata": "7FG4HgVIq0CPwvUoSDfwQA==",
          "dtype": "f8"
         },
         "yaxis": "y"
        },
        {
         "marker": {
          "color": "red"
         },
         "name": "Expenses",
         "type": "bar",
         "x": [
          "2025-07",
          "2025-08"
         ],
         "xaxis": "x",
         "y": {
          "_inputArray": {
           "0": 4194.46,
           "1": 53927.009999999995,
           "bdata": "KVyPwnVisEAehetR4FTqQA==",
           "dtype": "f8",
           "shape": "2"
          },
          "bdata": "KVyPwnVisEAehetR4FTqQA==",
          "dtype": "f8"
         },
         "yaxis": "y"
        },
        {
         "line": {
          "color": "blue"
         },
         "mode": "lines+markers",
         "name": "Savings Rate (%)",
         "type": "scatter",
         "x": [
          "2025-07",
          "2025-08"
         ],
         "xaxis": "x2",
         "y": {
          "_inputArray": {
           "0": -20.1,
           "1": 18.8,
           "bdata": "mpmZmZkZNMDNzMzMzMwyQA==",
           "dtype": "f8",
           "shape": "2"
          },
          "bdata": "mpmZmZkZNMDNzMzMzMwyQA==",
          "dtype": "f8"
         },
         "yaxis": "y2"
        },
        {
         "marker": {
          "color": "purple"
         },
         "name": "Avg Daily Spending",
         "type": "bar",
         "x": [
          "Monday",
          "Tuesday",
          "Wednesday",
          "Thursday",
          "Friday",
          "Saturday",
          "Sunday"
         ],
         "xaxis": "x3",
         "y": {
          "_inputArray": {
           "0": 606.9975000000001,
           "1": 10065,
           "2": 2172.19,
           "3": 738.71,
           "4": 10074.863333333333,
           "5": null,
           "6": null,
           "bdata": "Fa5H4fr3gkAAAAAAgKjDQHsUrkdh+KBASOF6FK4Vh0Ab6LSBbq3DQAAAAAAAAPh/AAAAAAAA+H8=",
           "dtype": "f8",
           "shape": "7"
          },
          "bdata": "Fa5H4fr3gkAAAAAAgKjDQHsUrkdh+KBASOF6FK4Vh0Ab6LSBbq3DQAAAAAAAAPh/AAAAAAAA+H8=",
          "dtype": "f8"
         },
         "yaxis": "y3"
        }
       ],
       "layout": {
        "annotations": [
         {
          "font": {
           "size": 16
          },
          "showarrow": false,
          "text": "Monthly Income vs Expenses",
          "x": 0.5,
          "xanchor": "center",
          "xref": "paper",
          "y": 1,
          "yanchor": "bottom",
          "yref": "paper"
         },
         {
          "font": {
           "size": 16
          },
          "showarrow": false,
          "text": "Savings Rate Trend",
          "x": 0.5,
          "xanchor": "center",
          "xref": "paper",
          "y": 0.6399999999999999,
          "yanchor": "bottom",
          "yref": "paper"
         },
         {
          "font": {
           "size": 16
          },
          "showarrow": false,
          "text": "Daily Spending Patterns",
          "x": 0.5,
          "xanchor": "center",
          "xref": "paper",
          "y": 0.27999999999999997,
          "yanchor": "bottom",
          "yref": "paper"
         }
        ],
        "autosize": true,
        "template": {
         "data": {
          "bar": [
           {
            "error_x": {
             "color": "#2a3f5f"
            },
            "error_y": {
             "color": "#2a3f5f"
            },
            "marker": {
             "line": {
              "color": "#E5ECF6",
              "width": 0.5
             },
             "pattern": {
              "fillmode": "overlay",
              "size": 10,
              "solidity": 0.2
             }
            },
            "type": "bar"
           }
          ],
          "barpolar": [
           {
            "marker": {
             "line": {
              "color": "#E5ECF6",
              "width": 0.5
             },
             "pattern": {
              "fillmode": "overlay",
              "size": 10,
              "solidity": 0.2
             }
            },
            "type": "barpolar"
           }
          ],
          "carpet": [
           {
            "aaxis": {
             "endlinecolor": "#2a3f5f",
             "gridcolor": "white",
             "linecolor": "white",
             "minorgridcolor": "white",
             "startlinecolor": "#2a3f5f"
            },
            "baxis": {
             "endlinecolor": "#2a3f5f",
             "gridcolor": "white",
             "linecolor": "white",
             "minorgridcolor": "white",
             "startlinecolor": "#2a3f5f"
            },
            "type": "carpet"
           }
          ],
          "choropleth": [
           {
            "colorbar": {
             "outlinewidth": 0,
             "ticks": ""
            },
            "type": "choropleth"
           }
          ],
          "contour": [
           {
            "colorbar": {
             "outlinewidth": 0,
             "ticks": ""
            },
            "colorscale": [
             [
              0,
              "#0d0887"
             ],
             [
              0.1111111111111111,
              "#46039f"
             ],
             [
              0.2222222222222222,
              "#7201a8"
             ],
             [
              0.3333333333333333,
              "#9c179e"
             ],
             [
              0.4444444444444444,
              "#bd3786"
             ],
             [
              0.5555555555555556,
              "#d8576b"
             ],
             [
              0.6666666666666666,
              "#ed7953"
             ],
             [
              0.7777777777777778,
              "#fb9f3a"
             ],
             [
              0.8888888888888888,
              "#fdca26"
             ],
             [
              1,
              "#f0f921"
             ]
            ],
            "type": "contour"
           }
          ],
          "contourcarpet": [
           {
            "colorbar": {
             "outlinewidth": 0,
             "ticks": ""
            },
            "type": "contourcarpet"
           }
          ],
          "heatmap": [
           {
            "colorbar": {
             "outlinewidth": 0,
             "ticks": ""
            },
            "colorscale": [
             [
              0,
              "#0d0887"
             ],
             [
              0.1111111111111111,
              "#46039f"
             ],
             [
              0.2222222222222222,
              "#7201a8"
             ],
             [
              0.3333333333333333,
              "#9c179e"
             ],
             [
              0.4444444444444444,
              "#bd3786"
             ],
             [
              0.5555555555555556,
              "#d8576b"
             ],
             [
              0.6666666666666666,
              "#ed7953"
             ],
             [
              0.7777777777777778,
              "#fb9f3a"
             ],
             [
              0.8888888888888888,
              "#fdca26"
             ],
             [
              1,
              "#f0f921"
             ]
            ],
            "type": "heatmap"
           }
          ],
          "histogram": [
           {
            "marker": {
             "pattern": {
              "fillmode": "overlay",
              "size": 10,
              "solidity": 0.2
             }
            },
            "type": "histogram"
           }
          ],
          "histogram2d": [
           {
            "colorbar": {
             "outlinewidth": 0,
             "ticks": ""
            },
            "colorscale": [
             [
              0,
              "#0d0887"
             ],
             [
              0.1111111111111111,
              "#46039f"
             ],
             [
              0.2222222222222222,
              "#7201a8"
             ],
             [
              0.3333333333333333,
              "#9c179e"
             ],
             [
              0.4444444444444444,
              "#bd3786"
             ],
             [
              0.5555555555555556,
              "#d8576b"
             ],
             [
              0.6666666666666666,
              "#ed7953"
             ],
             [
              0.7777777777777778,
              "#fb9f3a"
             ],
             [
              0.8888888888888888,
              "#fdca26"
             ],
             [
              1,
              "#f0f921"
             ]
            ],
            "type": "histogram2d"
           }
          ],
          "histogram2dcontour": [
           {
            "colorbar": {
             "outlinewidth": 0,
             "ticks": ""
            },
            "colorscale": [
             [
              0,
              "#0d0887"
             ],
             [
              0.1111111111111111,
              "#46039f"
             ],
             [
              0.2222222222222222,
              "#7201a8"
             ],
             [
              0.3333333333333333,
              "#9c179e"
             ],
             [
              0.4444444444444444,
              "#bd3786"
             ],
             [
              0.5555555555555556,
              "#d8576b"
             ],
             [
              0.6666666666666666,
              "#ed7953"
             ],
             [
              0.7777777777777778,
              "#fb9f3a"
             ],
             [
              0.8888888888888888,
              "#fdca26"
             ],
             [
              1,
              "#f0f921"
             ]
            ],
            "type": "histogram2dcontour"
           }
          ],
          "mesh3d": [
           {
            "colorbar": {
             "outlinewidth": 0,
             "ticks": ""
            },
            "type": "mesh3d"
           }
          ],
          "parcoords": [
           {
            "line": {
             "colorbar": {
              "outlinewidth": 0,
              "ticks": ""
             }
            },
            "type": "parcoords"
           }
          ],
          "pie": [
           {
            "automargin": true,
            "type": "pie"
           }
          ],
          "scatter": [
           {
            "fillpattern": {
             "fillmode": "overlay",
             "size": 10,
             "solidity": 0.2
            },
            "type": "scatter"
           }
          ],
          "scatter3d": [
           {
            "line": {
             "colorbar": {
              "outlinewidth": 0,
              "ticks": ""
             }
            },
            "marker": {
             "colorbar": {
              "outlinewidth": 0,
              "ticks": ""
             }
            },
            "type": "scatter3d"
           }
          ],
          "scattercarpet": [
           {
            "marker": {
             "colorbar": {
              "outlinewidth": 0,
              "ticks": ""
             }
            },
            "type": "scattercarpet"
           }
          ],
          "scattergeo": [
           {
            "marker": {
             "colorbar": {
              "outlinewidth": 0,
              "ticks": ""
             }
            },
            "type": "scattergeo"
           }
          ],
          "scattergl": [
           {
            "marker": {
             "colorbar": {
              "outlinewidth": 0,
              "ticks": ""
             }
            },
            "type": "scattergl"
           }
          ],
          "scattermap": [
           {
            "marker": {
             "colorbar": {
              "outlinewidth": 0,
              "ticks": ""
             }
            },
            "type": "scattermap"
           }
          ],
          "scattermapbox": [
           {
            "marker": {
             "colorbar": {
              "outlinewidth": 0,
              "ticks": ""
             }
            },
            "type": "scattermapbox"
           }
          ],
          "scatterpolar": [
           {
            "marker": {
             "colorbar": {
              "outlinewidth": 0,
              "ticks": ""
             }
            },
            "type": "scatterpolar"
           }
          ],
          "scatterpolargl": [
           {
            "marker": {
             "colorbar": {
              "outlinewidth": 0,
              "ticks": ""
             }
            },
            "type": "scatterpolargl"
           }
          ],
          "scatterternary": [
           {
            "marker": {
             "colorbar": {
              "outlinewidth": 0,
              "ticks": ""
             }
            },
            "type": "scatterternary"
           }
          ],
          "surface": [
           {
            "colorbar": {
             "outlinewidth": 0,
             "ticks": ""
            },
            "colorscale": [
             [
              0,
              "#0d0887"
             ],
             [
              0.1111111111111111,
              "#46039f"
             ],
             [
              0.2222222222222222,
              "#7201a8"
             ],
             [
              0.3333333333333333,
              "#9c179e"
             ],
             [
              0.4444444444444444,
              "#bd3786"
             ],
             [
              0.5555555555555556,
              "#d8576b"
             ],
             [
              0.6666666666666666,
              "#ed7953"
             ],
             [
              0.7777777777777778,
              "#fb9f3a"
             ],
             [
              0.8888888888888888,
              "#fdca26"
             ],
             [
              1,
              "#f0f921"
             ]
            ],
            "type": "surface"
           }
          ],
          "table": [
           {
            "cells": {
             "fill": {
              "color": "#EBF0F8"
             },
             "line": {
              "color": "white"
             }
            },
            "header": {
             "fill": {
              "color": "#C8D4E3"
             },
             "line": {
              "color": "white"
             }
            },
            "type": "table"
           }
          ]
         },
         "layout": {
          "annotationdefaults": {
           "arrowcolor": "#2a3f5f",
           "arrowhead": 0,
           "arrowwidth": 1
          },
          "autotypenumbers": "strict",
          "coloraxis": {
           "colorbar": {
            "outlinewidth": 0,
            "ticks": ""
           }
          },
          "colorscale": {
           "diverging": [
            [
             0,
             "#8e0152"
            ],
            [
             0.1,
             "#c51b7d"
            ],
            [
             0.2,
             "#de77ae"
            ],
            [
             0.3,
             "#f1b6da"
            ],
            [
             0.4,
             "#fde0ef"
            ],
            [
             0.5,
             "#f7f7f7"
            ],
            [
             0.6,
             "#e6f5d0"
            ],
            [
             0.7,
             "#b8e186"
            ],
            [
             0.8,
             "#7fbc41"
            ],
            [
             0.9,
             "#4d9221"
            ],
            [
             1,
             "#276419"
            ]
           ],
           "sequential": [
            [
             0,
             "#0d0887"
            ],
            [
             0.1111111111111111,
             "#46039f"
            ],
            [
             0.2222222222222222,
             "#7201a8"
            ],
            [
             0.3333333333333333,
             "#9c179e"
            ],
            [
             0.4444444444444444,
             "#bd3786"
            ],
            [
             0.5555555555555556,
             "#d8576b"
            ],
            [
             0.6666666666666666,
             "#ed7953"
            ],
            [
             0.7777777777777778,
             "#fb9f3a"
            ],
            [
             0.8888888888888888,
             "#fdca26"
            ],
            [
             1,
             "#f0f921"
            ]
           ],
           "sequentialminus": [
            [
             0,
             "#0d0887"
            ],
            [
             0.1111111111111111,
             "#46039f"
            ],
            [
             0.2222222222222222,
             "#7201a8"
            ],
            [
             0.3333333333333333,
             "#9c179e"
            ],
            [
             0.4444444444444444,
             "#bd3786"
            ],
            [
             0.5555555555555556,
             "#d8576b"
            ],
            [
             0.6666666666666666,
             "#ed7953"
            ],
            [
             0.7777777777777778,
             "#fb9f3a"
            ],
            [
             0.8888888888888888,
             "#fdca26"
            ],
            [
             1,
             "#f0f921"
            ]
           ]
          },
          "colorway": [
           "#636efa",
           "#EF553B",
           "#00cc96",
           "#ab63fa",
           "#FFA15A",
           "#19d3f3",
           "#FF6692",
           "#B6E880",
           "#FF97FF",
           "#FECB52"
          ],
          "font": {
           "color": "#2a3f5f"
          },
          "geo": {
           "bgcolor": "white",
           "lakecolor": "white",
           "landcolor": "#E5ECF6",
           "showlakes": true,
           "showland": true,
           "subunitcolor": "white"
          },
          "hoverlabel": {
           "align": "left"
          },
          "hovermode": "closest",
          "mapbox": {
           "style": "light"
          },
          "paper_bgcolor": "white",
          "plot_bgcolor": "#E5ECF6",
          "polar": {
           "angularaxis": {
            "gridcolor": "white",
            "linecolor": "white",
            "ticks": ""
           },
           "bgcolor": "#E5ECF6",
           "radialaxis": {
            "gridcolor": "white",
            "linecolor": "white",
            "ticks": ""
           }
          },
          "scene": {
           "xaxis": {
            "backgroundcolor": "#E5ECF6",
            "gridcolor": "white",
            "gridwidth": 2,
            "linecolor": "white",
            "showbackground": true,
            "ticks": "",
            "zerolinecolor": "white"
           },
           "yaxis": {
            "backgroundcolor": "#E5ECF6",
            "gridcolor": "white",
            "gridwidth": 2,
            "linecolor": "white",
            "showbackground": true,
            "ticks": "",
            "zerolinecolor": "white"
           },
           "zaxis": {
            "backgroundcolor": "#E5ECF6",
            "gridcolor": "white",
            "gridwidth": 2,
            "linecolor": "white",
            "showbackground": true,
            "ticks": "",
            "zerolinecolor": "white"
           }
          },
          "shapedefaults": {
           "line": {
            "color": "#2a3f5f"
           }
          },
          "ternary": {
           "aaxis": {
            "gridcolor": "white",
            "linecolor": "white",
            "ticks": ""
           },
           "baxis": {
            "gridcolor": "white",
            "linecolor": "white",
            "ticks": ""
           },
           "bgcolor": "#E5ECF6",
           "caxis": {
            "gridcolor": "white",
            "linecolor": "white",
            "ticks": ""
           }
          },
          "title": {
           "x": 0.05
          },
          "xaxis": {
           "automargin": true,
           "gridcolor": "white",
           "linecolor": "white",
           "ticks": "",
           "title": {
            "standoff": 15
           },
           "zerolinecolor": "white",
           "zerolinewidth": 2
          },
          "yaxis": {
           "automargin": true,
           "gridcolor": "white",
           "linecolor": "white",
           "ticks": "",
           "title": {
            "standoff": 15
           },
           "zerolinecolor": "white",
           "zerolinewidth": 2
          }
         }
        },
        "title": {
         "text": "📅 Time-Based Financial Analysis"
        },
        "xaxis": {
         "anchor": "y",
         "autorange": true,
         "domain": [
          0,
          1
         ],
         "range": [
          "2025-06-15 12:00",
          "2025-08-16 12:00"
         ],
         "type": "date"
        },
        "xaxis2": {
         "anchor": "y2",
         "autorange": true,
         "domain": [
          0,
          1
         ],
         "range": [
          "2025-06-29 02:35:54.3307",
          "2025-08-02 21:24:05.6693"
         ],
         "type": "date"
        },
        "xaxis3": {
         "anchor": "y3",
         "autorange": true,
         "domain": [
          0,
          1
         ],
         "range": [
          -0.5,
          6.5
         ],
         "type": "category"
        },
        "yaxis": {
         "anchor": "x",
         "autorange": true,
         "domain": [
          0.72,
          1
         ],
         "range": [
          0,
          69916.32631578947
         ],
         "type": "linear"
        },
        "yaxis2": {
         "anchor": "x2",
         "autorange": true,
         "domain": [
          0.36,
          0.6399999999999999
         ],
         "range": [
          -23.07502761876067,
          21.77502761876067
         ],
         "type": "linear"
        },
        "yaxis3": {
         "anchor": "x3",
         "autorange": true,
         "domain": [
          0,
          0.27999999999999997
         ],
         "range": [
          0,
          10605.119298245614
         ],
         "type": "linear"
        }
       }
      },
      "image/png": "[encoded data removed]"
     },
     "metadata": {},
     "output_type": "display_data"
    }
   ],
   "source": [
    "# Analyze spending patterns over time\n",
    "monthly_summary = df.groupby(['month', 'transaction_type'])['amount'].sum().unstack(fill_value=0)\n",
    "monthly_summary['Net'] = monthly_summary.get('Income', 0) + monthly_summary.get('Expense', 0)\n",
    "monthly_summary['Savings_Rate'] = (monthly_summary['Net'] / monthly_summary.get('Income', 1) * 100).round(1)\n",
    "\n",
    "print(\"📅 MONTHLY FINANCIAL SUMMARY\")\n",
    "print(\"=\" * 80)\n",
    "print(f\"{'Month':<10} {'Income':<12} {'Expenses':<12} {'Net':<12} {'Savings %':<10}\")\n",
    "print(\"-\" * 80)\n",
    "for month, row in monthly_summary.tail(6).iterrows():\n",
    "    income = row.get('Income', 0)\n",
    "    expenses = row.get('Expense', 0)\n",
    "    net = row['Net']\n",
    "    savings_rate = row['Savings_Rate']\n",
    "    print(f\"{str(month):<10} ${income:>10,.0f} ${abs(expenses):>10,.0f} ${net:>10,.0f} {savings_rate:>8.1f}%\")\n",
    "\n",
    "# Create time-based visualizations\n",
    "fig = make_subplots(\n",
    "    rows=3, cols=1,\n",
    "    subplot_titles=('Monthly Income vs Expenses', 'Savings Rate Trend', 'Daily Spending Patterns'),\n",
    "    vertical_spacing=0.08\n",
    ")\n",
    "\n",
    "# Monthly income vs expenses\n",
    "fig.add_trace(\n",
    "    go.Bar(x=monthly_summary.index.astype(str), y=monthly_summary.get('Income', 0),\n",
    "           name='Income', marker_color='green'),\n",
    "    row=1, col=1\n",
    ")\n",
    "fig.add_trace(\n",
    "    go.Bar(x=monthly_summary.index.astype(str), y=abs(monthly_summary.get('Expense', 0)),\n",
    "           name='Expenses', marker_color='red'),\n",
    "    row=1, col=1\n",
    ")\n",
    "\n",
    "# Savings rate trend\n",
    "fig.add_trace(\n",
    "    go.Scatter(x=monthly_summary.index.astype(str), y=monthly_summary['Savings_Rate'],\n",
    "               mode='lines+markers', name='Savings Rate (%)', line=dict(color='blue')),\n",
    "    row=2, col=1\n",
    ")\n",
    "\n",
    "# Daily spending patterns\n",
    "daily_spending = expense_data.groupby('day_of_week')['abs_amount'].mean()\n",
    "day_order = ['Monday', 'Tuesday', 'Wednesday', 'Thursday', 'Friday', 'Saturday', 'Sunday']\n",
    "daily_spending = daily_spending.reindex(day_order)\n",
    "\n",
    "fig.add_trace(\n",
    "    go.Bar(x=daily_spending.index, y=daily_spending.values,\n",
    "           name='Avg Daily Spending', marker_color='purple'),\n",
    "    row=3, col=1\n",
    ")\n",
    "\n",
    "fig.update_layout(height=1000, title_text=\"📅 Time-Based Financial Analysis\")\n",
    "fig.show()"
   ]
  },
  {
   "cell_type": "markdown",
   "metadata": {},
   "source": [
    "## 🎯 Budget Analysis & Recommendations"
   ]
  },
  {
   "cell_type": "code",
   "execution_count": 7,
   "metadata": {},
   "outputs": [
    {
     "name": "stdout",
     "output_type": "stream",
     "text": [
      "🎯 BUDGET ANALYSIS\n",
      "============================================================\n",
      "Average Monthly Income: $34,956.26\n",
      "\n",
      "Recommended Budget Allocation:\n",
      "------------------------------------------------------------\n",
      "Housing         $  10,487 vs $       0 ✅ Under\n",
      "Food            $   5,243 vs $       0 ✅ Under\n",
      "Transportation  $   5,243 vs $       0 ✅ Under\n",
      "Healthcare      $   1,748 vs $       0 ✅ Under\n",
      "Entertainment   $   3,496 vs $       0 ✅ Under\n",
      "Savings         $   6,991 vs $       0 ✅ Under\n",
      "Other           $   1,748 vs $       0 ✅ Under\n"
     ]
    },
    {
     "data": {
      "application/vnd.plotly.v1+json": {
       "config": {
        "plotlyServerURL": "https://plot.ly"
       },
       "data": [
        {
         "marker": {
          "color": "lightblue"
         },
         "name": "Budget",
         "type": "bar",
         "x": [
          "Housing",
          "Food",
          "Transportation",
          "Healthcare",
          "Entertainment",
          "Savings",
          "Other"
         ],
         "xaxis": "x",
         "y": {
          "_inputArray": {
           "0": 10486.877999999999,
           "1": 5243.438999999999,
           "2": 5243.438999999999,
           "3": 1747.8129999999999,
           "4": 3495.6259999999997,
           "5": 6991.2519999999995,
           "6": 1747.8129999999999,
           "bdata": "8dJNYnB7xEDx0k1icHu0QPHSTWJwe7RAl24Sg0BPm0CXbhKDQE+rQJduEoNAT7tAl24Sg0BPm0A=",
           "dtype": "f8",
           "shape": "7"
          },
          "bdata": "8dJNYnB7xEDx0k1icHu0QPHSTWJwe7RAl24Sg0BPm0CXbhKDQE+rQJduEoNAT7tAl24Sg0BPm0A=",
          "dtype": "f8"
         },
         "yaxis": "y"
        },
        {
         "marker": {
          "color": "orange"
         },
         "name": "Actual",
         "type": "bar",
         "x": [
          "Housing",
          "Food",
          "Transportation",
          "Healthcare",
          "Entertainment",
          "Savings",
          "Other"
         ],
         "xaxis": "x",
         "y": {
          "_inputArray": {
           "0": 0,
           "1": 0,
           "2": 0,
           "3": 0,
           "4": 0,
           "5": 0,
           "6": 0,
           "bdata": "AAAAAAAAAA==",
           "dtype": "i1",
           "shape": "7"
          },
          "bdata": "AAAAAAAAAA==",
          "dtype": "i1"
         },
         "yaxis": "y"
        },
        {
         "domain": {
          "x": [
           0.55,
           1
          ],
          "y": [
           0,
           1
          ]
         },
         "labels": [
          "Housing",
          "Food",
          "Transportation",
          "Healthcare",
          "Entertainment",
          "Savings",
          "Other"
         ],
         "name": "Budget Allocation",
         "type": "pie",
         "values": {
          "_inputArray": {
           "0": 10486.877999999999,
           "1": 5243.438999999999,
           "2": 5243.438999999999,
           "3": 1747.8129999999999,
           "4": 3495.6259999999997,
           "5": 6991.2519999999995,
           "6": 1747.8129999999999,
           "bdata": "8dJNYnB7xEDx0k1icHu0QPHSTWJwe7RAl24Sg0BPm0CXbhKDQE+rQJduEoNAT7tAl24Sg0BPm0A=",
           "dtype": "f8",
           "shape": "7"
          },
          "bdata": "8dJNYnB7xEDx0k1icHu0QPHSTWJwe7RAl24Sg0BPm0CXbhKDQE+rQJduEoNAT7tAl24Sg0BPm0A=",
          "dtype": "f8"
         }
        }
       ],
       "layout": {
        "annotations": [
         {
          "font": {
           "size": 16
          },
          "showarrow": false,
          "text": "Budget vs Actual Spending",
          "x": 0.225,
          "xanchor": "center",
          "xref": "paper",
          "y": 1,
          "yanchor": "bottom",
          "yref": "paper"
         },
         {
          "font": {
           "size": 16
          },
          "showarrow": false,
          "text": "Budget Allocation",
          "x": 0.775,
          "xanchor": "center",
          "xref": "paper",
          "y": 1,
          "yanchor": "bottom",
          "yref": "paper"
         }
        ],
        "autosize": true,
        "template": {
         "data": {
          "bar": [
           {
            "error_x": {
             "color": "#2a3f5f"
            },
            "error_y": {
             "color": "#2a3f5f"
            },
            "marker": {
             "line": {
              "color": "#E5ECF6",
              "width": 0.5
             },
             "pattern": {
              "fillmode": "overlay",
              "size": 10,
              "solidity": 0.2
             }
            },
            "type": "bar"
           }
          ],
          "barpolar": [
           {
            "marker": {
             "line": {
              "color": "#E5ECF6",
              "width": 0.5
             },
             "pattern": {
              "fillmode": "overlay",
              "size": 10,
              "solidity": 0.2
             }
            },
            "type": "barpolar"
           }
          ],
          "carpet": [
           {
            "aaxis": {
             "endlinecolor": "#2a3f5f",
             "gridcolor": "white",
             "linecolor": "white",
             "minorgridcolor": "white",
             "startlinecolor": "#2a3f5f"
            },
            "baxis": {
             "endlinecolor": "#2a3f5f",
             "gridcolor": "white",
             "linecolor": "white",
             "minorgridcolor": "white",
             "startlinecolor": "#2a3f5f"
            },
            "type": "carpet"
           }
          ],
          "choropleth": [
           {
            "colorbar": {
             "outlinewidth": 0,
             "ticks": ""
            },
            "type": "choropleth"
           }
          ],
          "contour": [
           {
            "colorbar": {
             "outlinewidth": 0,
             "ticks": ""
            },
            "colorscale": [
             [
              0,
              "#0d0887"
             ],
             [
              0.1111111111111111,
              "#46039f"
             ],
             [
              0.2222222222222222,
              "#7201a8"
             ],
             [
              0.3333333333333333,
              "#9c179e"
             ],
             [
              0.4444444444444444,
              "#bd3786"
             ],
             [
              0.5555555555555556,
              "#d8576b"
             ],
             [
              0.6666666666666666,
              "#ed7953"
             ],
             [
              0.7777777777777778,
              "#fb9f3a"
             ],
             [
              0.8888888888888888,
              "#fdca26"
             ],
             [
              1,
              "#f0f921"
             ]
            ],
            "type": "contour"
           }
          ],
          "contourcarpet": [
           {
            "colorbar": {
             "outlinewidth": 0,
             "ticks": ""
            },
            "type": "contourcarpet"
           }
          ],
          "heatmap": [
           {
            "colorbar": {
             "outlinewidth": 0,
             "ticks": ""
            },
            "colorscale": [
             [
              0,
              "#0d0887"
             ],
             [
              0.1111111111111111,
              "#46039f"
             ],
             [
              0.2222222222222222,
              "#7201a8"
             ],
             [
              0.3333333333333333,
              "#9c179e"
             ],
             [
              0.4444444444444444,
              "#bd3786"
             ],
             [
              0.5555555555555556,
              "#d8576b"
             ],
             [
              0.6666666666666666,
              "#ed7953"
             ],
             [
              0.7777777777777778,
              "#fb9f3a"
             ],
             [
              0.8888888888888888,
              "#fdca26"
             ],
             [
              1,
              "#f0f921"
             ]
            ],
            "type": "heatmap"
           }
          ],
          "histogram": [
           {
            "marker": {
             "pattern": {
              "fillmode": "overlay",
              "size": 10,
              "solidity": 0.2
             }
            },
            "type": "histogram"
           }
          ],
          "histogram2d": [
           {
            "colorbar": {
             "outlinewidth": 0,
             "ticks": ""
            },
            "colorscale": [
             [
              0,
              "#0d0887"
             ],
             [
              0.1111111111111111,
              "#46039f"
             ],
             [
              0.2222222222222222,
              "#7201a8"
             ],
             [
              0.3333333333333333,
              "#9c179e"
             ],
             [
              0.4444444444444444,
              "#bd3786"
             ],
             [
              0.5555555555555556,
              "#d8576b"
             ],
             [
              0.6666666666666666,
              "#ed7953"
             ],
             [
              0.7777777777777778,
              "#fb9f3a"
             ],
             [
              0.8888888888888888,
              "#fdca26"
             ],
             [
              1,
              "#f0f921"
             ]
            ],
            "type": "histogram2d"
           }
          ],
          "histogram2dcontour": [
           {
            "colorbar": {
             "outlinewidth": 0,
             "ticks": ""
            },
            "colorscale": [
             [
              0,
              "#0d0887"
             ],
             [
              0.1111111111111111,
              "#46039f"
             ],
             [
              0.2222222222222222,
              "#7201a8"
             ],
             [
              0.3333333333333333,
              "#9c179e"
             ],
             [
              0.4444444444444444,
              "#bd3786"
             ],
             [
              0.5555555555555556,
              "#d8576b"
             ],
             [
              0.6666666666666666,
              "#ed7953"
             ],
             [
              0.7777777777777778,
              "#fb9f3a"
             ],
             [
              0.8888888888888888,
              "#fdca26"
             ],
             [
              1,
              "#f0f921"
             ]
            ],
            "type": "histogram2dcontour"
           }
          ],
          "mesh3d": [
           {
            "colorbar": {
             "outlinewidth": 0,
             "ticks": ""
            },
            "type": "mesh3d"
           }
          ],
          "parcoords": [
           {
            "line": {
             "colorbar": {
              "outlinewidth": 0,
              "ticks": ""
             }
            },
            "type": "parcoords"
           }
          ],
          "pie": [
           {
            "automargin": true,
            "type": "pie"
           }
          ],
          "scatter": [
           {
            "fillpattern": {
             "fillmode": "overlay",
             "size": 10,
             "solidity": 0.2
            },
            "type": "scatter"
           }
          ],
          "scatter3d": [
           {
            "line": {
             "colorbar": {
              "outlinewidth": 0,
              "ticks": ""
             }
            },
            "marker": {
             "colorbar": {
              "outlinewidth": 0,
              "ticks": ""
             }
            },
            "type": "scatter3d"
           }
          ],
          "scattercarpet": [
           {
            "marker": {
             "colorbar": {
              "outlinewidth": 0,
              "ticks": ""
             }
            },
            "type": "scattercarpet"
           }
          ],
          "scattergeo": [
           {
            "marker": {
             "colorbar": {
              "outlinewidth": 0,
              "ticks": ""
             }
            },
            "type": "scattergeo"
           }
          ],
          "scattergl": [
           {
            "marker": {
             "colorbar": {
              "outlinewidth": 0,
              "ticks": ""
             }
            },
            "type": "scattergl"
           }
          ],
          "scattermap": [
           {
            "marker": {
             "colorbar": {
              "outlinewidth": 0,
              "ticks": ""
             }
            },
            "type": "scattermap"
           }
          ],
          "scattermapbox": [
           {
            "marker": {
             "colorbar": {
              "outlinewidth": 0,
              "ticks": ""
             }
            },
            "type": "scattermapbox"
           }
          ],
          "scatterpolar": [
           {
            "marker": {
             "colorbar": {
              "outlinewidth": 0,
              "ticks": ""
             }
            },
            "type": "scatterpolar"
           }
          ],
          "scatterpolargl": [
           {
            "marker": {
             "colorbar": {
              "outlinewidth": 0,
              "ticks": ""
             }
            },
            "type": "scatterpolargl"
           }
          ],
          "scatterternary": [
           {
            "marker": {
             "colorbar": {
              "outlinewidth": 0,
              "ticks": ""
             }
            },
            "type": "scatterternary"
           }
          ],
          "surface": [
           {
            "colorbar": {
             "outlinewidth": 0,
             "ticks": ""
            },
            "colorscale": [
             [
              0,
              "#0d0887"
             ],
             [
              0.1111111111111111,
              "#46039f"
             ],
             [
              0.2222222222222222,
              "#7201a8"
             ],
             [
              0.3333333333333333,
              "#9c179e"
             ],
             [
              0.4444444444444444,
              "#bd3786"
             ],
             [
              0.5555555555555556,
              "#d8576b"
             ],
             [
              0.6666666666666666,
              "#ed7953"
             ],
             [
              0.7777777777777778,
              "#fb9f3a"
             ],
             [
              0.8888888888888888,
              "#fdca26"
             ],
             [
              1,
              "#f0f921"
             ]
            ],
            "type": "surface"
           }
          ],
          "table": [
           {
            "cells": {
             "fill": {
              "color": "#EBF0F8"
             },
             "line": {
              "color": "white"
             }
            },
            "header": {
             "fill": {
              "color": "#C8D4E3"
             },
             "line": {
              "color": "white"
             }
            },
            "type": "table"
           }
          ]
         },
         "layout": {
          "annotationdefaults": {
           "arrowcolor": "#2a3f5f",
           "arrowhead": 0,
           "arrowwidth": 1
          },
          "autotypenumbers": "strict",
          "coloraxis": {
           "colorbar": {
            "outlinewidth": 0,
            "ticks": ""
           }
          },
          "colorscale": {
           "diverging": [
            [
             0,
             "#8e0152"
            ],
            [
             0.1,
             "#c51b7d"
            ],
            [
             0.2,
             "#de77ae"
            ],
            [
             0.3,
             "#f1b6da"
            ],
            [
             0.4,
             "#fde0ef"
            ],
            [
             0.5,
             "#f7f7f7"
            ],
            [
             0.6,
             "#e6f5d0"
            ],
            [
             0.7,
             "#b8e186"
            ],
            [
             0.8,
             "#7fbc41"
            ],
            [
             0.9,
             "#4d9221"
            ],
            [
             1,
             "#276419"
            ]
           ],
           "sequential": [
            [
             0,
             "#0d0887"
            ],
            [
             0.1111111111111111,
             "#46039f"
            ],
            [
             0.2222222222222222,
             "#7201a8"
            ],
            [
             0.3333333333333333,
             "#9c179e"
            ],
            [
             0.4444444444444444,
             "#bd3786"
            ],
            [
             0.5555555555555556,
             "#d8576b"
            ],
            [
             0.6666666666666666,
             "#ed7953"
            ],
            [
             0.7777777777777778,
             "#fb9f3a"
            ],
            [
             0.8888888888888888,
             "#fdca26"
            ],
            [
             1,
             "#f0f921"
            ]
           ],
           "sequentialminus": [
            [
             0,
             "#0d0887"
            ],
            [
             0.1111111111111111,
             "#46039f"
            ],
            [
             0.2222222222222222,
             "#7201a8"
            ],
            [
             0.3333333333333333,
             "#9c179e"
            ],
            [
             0.4444444444444444,
             "#bd3786"
            ],
            [
             0.5555555555555556,
             "#d8576b"
            ],
            [
             0.6666666666666666,
             "#ed7953"
            ],
            [
             0.7777777777777778,
             "#fb9f3a"
            ],
            [
             0.8888888888888888,
             "#fdca26"
            ],
            [
             1,
             "#f0f921"
            ]
           ]
          },
          "colorway": [
           "#636efa",
           "#EF553B",
           "#00cc96",
           "#ab63fa",
           "#FFA15A",
           "#19d3f3",
           "#FF6692",
           "#B6E880",
           "#FF97FF",
           "#FECB52"
          ],
          "font": {
           "color": "#2a3f5f"
          },
          "geo": {
           "bgcolor": "white",
           "lakecolor": "white",
           "landcolor": "#E5ECF6",
           "showlakes": true,
           "showland": true,
           "subunitcolor": "white"
          },
          "hoverlabel": {
           "align": "left"
          },
          "hovermode": "closest",
          "mapbox": {
           "style": "light"
          },
          "paper_bgcolor": "white",
          "plot_bgcolor": "#E5ECF6",
          "polar": {
           "angularaxis": {
            "gridcolor": "white",
            "linecolor": "white",
            "ticks": ""
           },
           "bgcolor": "#E5ECF6",
           "radialaxis": {
            "gridcolor": "white",
            "linecolor": "white",
            "ticks": ""
           }
          },
          "scene": {
           "xaxis": {
            "backgroundcolor": "#E5ECF6",
            "gridcolor": "white",
            "gridwidth": 2,
            "linecolor": "white",
            "showbackground": true,
            "ticks": "",
            "zerolinecolor": "white"
           },
           "yaxis": {
            "backgroundcolor": "#E5ECF6",
            "gridcolor": "white",
            "gridwidth": 2,
            "linecolor": "white",
            "showbackground": true,
            "ticks": "",
            "zerolinecolor": "white"
           },
           "zaxis": {
            "backgroundcolor": "#E5ECF6",
            "gridcolor": "white",
            "gridwidth": 2,
            "linecolor": "white",
            "showbackground": true,
            "ticks": "",
            "zerolinecolor": "white"
           }
          },
          "shapedefaults": {
           "line": {
            "color": "#2a3f5f"
           }
          },
          "ternary": {
           "aaxis": {
            "gridcolor": "white",
            "linecolor": "white",
            "ticks": ""
           },
           "baxis": {
            "gridcolor": "white",
            "linecolor": "white",
            "ticks": ""
           },
           "bgcolor": "#E5ECF6",
           "caxis": {
            "gridcolor": "white",
            "linecolor": "white",
            "ticks": ""
           }
          },
          "title": {
           "x": 0.05
          },
          "xaxis": {
           "automargin": true,
           "gridcolor": "white",
           "linecolor": "white",
           "ticks": "",
           "title": {
            "standoff": 15
           },
           "zerolinecolor": "white",
           "zerolinewidth": 2
          },
          "yaxis": {
           "automargin": true,
           "gridcolor": "white",
           "linecolor": "white",
           "ticks": "",
           "title": {
            "standoff": 15
           },
           "zerolinecolor": "white",
           "zerolinewidth": 2
          }
         }
        },
        "title": {
         "text": "🎯 Budget Analysis"
        },
        "xaxis": {
         "anchor": "y",
         "autorange": true,
         "domain": [
          0,
          0.45
         ],
         "range": [
          -0.5,
          6.5
         ],
         "type": "category"
        },
        "yaxis": {
         "anchor": "x",
         "autorange": true,
         "domain": [
          0,
          1
         ],
         "range": [
          0,
          11038.81894736842
         ],
         "type": "linear"
        }
       }
      },
      "image/png": "[encoded data removed]"
     },
     "metadata": {},
     "output_type": "display_data"
    }
   ],
   "source": [
    "# Create a simple budget based on historical data\n",
    "# You can modify these percentages based on your financial goals\n",
    "BUDGET_PERCENTAGES = {\n",
    "    'Housing': 0.30,      # 30% of income\n",
    "    'Food': 0.15,         # 15% of income\n",
    "    'Transportation': 0.15, # 15% of income\n",
    "    'Healthcare': 0.05,   # 5% of income\n",
    "    'Entertainment': 0.10, # 10% of income\n",
    "    'Savings': 0.20,      # 20% of income\n",
    "    'Other': 0.05         # 5% of income\n",
    "}\n",
    "\n",
    "# Calculate budget vs actual for recent months\n",
    "recent_months = monthly_summary.tail(3)\n",
    "avg_monthly_income = recent_months.get('Income', 0).mean()\n",
    "\n",
    "print(\"🎯 BUDGET ANALYSIS\")\n",
    "print(\"=\" * 60)\n",
    "print(f\"Average Monthly Income: ${avg_monthly_income:,.2f}\")\n",
    "print(\"\\nRecommended Budget Allocation:\")\n",
    "print(\"-\" * 60)\n",
    "\n",
    "budget_data = []\n",
    "for category, percentage in BUDGET_PERCENTAGES.items():\n",
    "    budget_amount = avg_monthly_income * percentage\n",
    "    \n",
    "    # Try to match with actual spending categories\n",
    "    if category == 'Housing':\n",
    "        actual_categories = ['Rent', 'Mortgage', 'Utilities', 'Electricity', 'Water', 'Gas', 'Internet']\n",
    "    elif category == 'Food':\n",
    "        actual_categories = ['Groceries', 'Dining Out', 'Food']\n",
    "    elif category == 'Transportation':\n",
    "        actual_categories = ['Fuel', 'Public Transit', 'Car Payment', 'Car Insurance', 'Transportation']\n",
    "    else:\n",
    "        actual_categories = [category]\n",
    "    \n",
    "    # Calculate actual spending\n",
    "    actual_spending = 0\n",
    "    for cat in actual_categories:\n",
    "        if cat in category_spending.index:\n",
    "            actual_spending += category_spending.loc[cat, 'Total_Spent'] / len(monthly_summary)\n",
    "    \n",
    "    budget_data.append({\n",
    "        'Category': category,\n",
    "        'Budget': budget_amount,\n",
    "        'Actual': actual_spending,\n",
    "        'Difference': budget_amount - actual_spending,\n",
    "        'Percentage': percentage * 100\n",
    "    })\n",
    "    \n",
    "    status = \"✅ Under\" if actual_spending <= budget_amount else \"❌ Over\"\n",
    "    print(f\"{category:<15} ${budget_amount:>8,.0f} vs ${actual_spending:>8,.0f} {status}\")\n",
    "\n",
    "# Create budget visualization\n",
    "budget_df = pd.DataFrame(budget_data)\n",
    "\n",
    "fig = make_subplots(\n",
    "    rows=1, cols=2,\n",
    "    subplot_titles=('Budget vs Actual Spending', 'Budget Allocation'),\n",
    "    specs=[[{\"type\": \"bar\"}, {\"type\": \"pie\"}]]\n",
    ")\n",
    "\n",
    "# Budget vs Actual\n",
    "fig.add_trace(\n",
    "    go.Bar(x=budget_df['Category'], y=budget_df['Budget'],\n",
    "           name='Budget', marker_color='lightblue'),\n",
    "    row=1, col=1\n",
    ")\n",
    "fig.add_trace(\n",
    "    go.Bar(x=budget_df['Category'], y=budget_df['Actual'],\n",
    "           name='Actual', marker_color='orange'),\n",
    "    row=1, col=1\n",
    ")\n",
    "\n",
    "# Budget allocation pie\n",
    "fig.add_trace(\n",
    "    go.Pie(labels=budget_df['Category'], values=budget_df['Budget'],\n",
    "           name=\"Budget Allocation\"),\n",
    "    row=1, col=2\n",
    ")\n",
    "\n",
    "fig.update_layout(height=500, title_text=\"🎯 Budget Analysis\")\n",
    "fig.show()"
   ]
  },
  {
   "cell_type": "markdown",
   "metadata": {},
   "source": [
    "## 🔍 Advanced Analytics & Insights"
   ]
  },
  {
   "cell_type": "code",
   "execution_count": 8,
   "metadata": {},
   "outputs": [
    {
     "name": "stdout",
     "output_type": "stream",
     "text": [
      "🔍 UNUSUAL TRANSACTIONS ANALYSIS\n",
      "======================================================================\n",
      "\n",
      "💸 Large Expenses (Top 5% - above $23000.00):\n",
      "   $30,000.00 - Wealthfront EDI PYMNTS 4CC70294874D44 Di (Credit Card Payment)\n",
      "\n",
      "💰 Large Income (Top 5% - above $30000.00):\n",
      "\n",
      "📊 SPENDING PATTERNS:\n",
      "Weekend avg transaction: $nan\n",
      "Weekday avg transaction: $3874.76\n",
      "Weekend vs Weekday ratio: nanx\n"
     ]
    },
    {
     "data": {
      "application/vnd.plotly.v1+json": {
       "config": {
        "plotlyServerURL": "https://plot.ly"
       },
       "data": [
        {
         "mode": "lines",
         "name": "Cumulative Spending",
         "type": "scatter",
         "x": [
          "2025-07-07T00:00:00.000000000",
          "2025-07-07T00:00:00.000000000",
          "2025-07-10T00:00:00.000000000",
          "2025-07-14T00:00:00.000000000",
          "2025-07-14T00:00:00.000000000",
          "2025-07-21T00:00:00.000000000",
          "2025-07-29T00:00:00.000000000",
          "2025-08-01T00:00:00.000000000",
          "2025-08-01T00:00:00.000000000",
          "2025-08-01T00:00:00.000000000",
          "2025-08-04T00:00:00.000000000",
          "2025-08-04T00:00:00.000000000",
          "2025-08-06T00:00:00.000000000",
          "2025-08-11T00:00:00.000000000",
          "2025-08-19T00:00:00.000000000"
         ],
         "xaxis": "x",
         "y": {
          "_inputArray": {
           "0": 2172.19,
           "1": 2310.08,
           "10": 34556.939999999995,
           "11": 34656.939999999995,
           "12": 36829.13,
           "13": 38121.469999999994,
           "14": 58121.469999999994,
           "2": 3048.79,
           "3": 3068.79,
           "4": 3508.08,
           "5": 4064.46,
           "6": 4194.46,
           "7": 34194.46,
           "8": 34369.049999999996,
           "9": 34419.049999999996,
           "bdata": "exSuR2H4oEBcj8L1KAyiQK5H4XqU0adArkfhepT5p0Bcj8L1KGirQFK4HoXrwK9AKVyPwnVisECF61G4TrLgQJmZmZkhyOBAmZmZmWHO4EBH4XoUnt/gQEfhehQe7OBAj8L1KKT74UCjcD0KL53iQKNwPQovYexA",
           "dtype": "f8",
           "shape": "15"
          },
          "bdata": "exSuR2H4oEBcj8L1KAyiQK5H4XqU0adArkfhepT5p0Bcj8L1KGirQFK4HoXrwK9AKVyPwnVisECF61G4TrLgQJmZmZkhyOBAmZmZmWHO4EBH4XoUnt/gQEfhehQe7OBAj8L1KKT74UCjcD0KL53iQKNwPQovYexA",
          "dtype": "f8"
         },
         "yaxis": "y"
        },
        {
         "name": "Transaction Sizes",
         "nbinsx": 30,
         "type": "histogram",
         "x": {
          "_inputArray": {
           "0": 20000,
           "1": 1292.34,
           "10": 20,
           "11": 439.29,
           "12": 738.71,
           "13": 2172.19,
           "14": 137.89,
           "2": 2172.19,
           "3": 137.89,
           "4": 100,
           "5": 30000,
           "6": 174.59,
           "7": 50,
           "8": 130,
           "9": 556.38,
           "bdata": "AAAAAACI00CPwvUoXDGUQHsUrkdh+KBAFK5H4Xo8YUAAAAAAAABZQAAAAAAATN1AexSuR+HSZUAAAAAAAABJQAAAAAAAQGBA16NwPQpjgUAAAAAAAAA0QHE9CtejdHtASOF6FK4Vh0B7FK5HYfigQBSuR+F6PGFA",
           "dtype": "f8",
           "shape": "15"
          },
          "bdata": "AAAAAACI00CPwvUoXDGUQHsUrkdh+KBAFK5H4Xo8YUAAAAAAAABZQAAAAAAATN1AexSuR+HSZUAAAAAAAABJQAAAAAAAQGBA16NwPQpjgUAAAAAAAAA0QHE9CtejdHtASOF6FK4Vh0B7FK5HYfigQBSuR+F6PGFA",
          "dtype": "f8"
         },
         "xaxis": "x2",
         "yaxis": "y2"
        },
        {
         "name": "Weekend",
         "type": "box",
         "xaxis": "x3",
         "y": [],
         "yaxis": "y3"
        },
        {
         "name": "Weekday",
         "type": "box",
         "xaxis": "x3",
         "y": {
          "_inputArray": {
           "0": 20000,
           "1": 1292.34,
           "10": 20,
           "11": 439.29,
           "12": 738.71,
           "13": 2172.19,
           "14": 137.89,
           "2": 2172.19,
           "3": 137.89,
           "4": 100,
           "5": 30000,
           "6": 174.59,
           "7": 50,
           "8": 130,
           "9": 556.38,
           "bdata": "AAAAAACI00CPwvUoXDGUQHsUrkdh+KBAFK5H4Xo8YUAAAAAAAABZQAAAAAAATN1AexSuR+HSZUAAAAAAAABJQAAAAAAAQGBA16NwPQpjgUAAAAAAAAA0QHE9CtejdHtASOF6FK4Vh0B7FK5HYfigQBSuR+F6PGFA",
           "dtype": "f8",
           "shape": "15"
          },
          "bdata": "AAAAAACI00CPwvUoXDGUQHsUrkdh+KBAFK5H4Xo8YUAAAAAAAABZQAAAAAAATN1AexSuR+HSZUAAAAAAAABJQAAAAAAAQGBA16NwPQpjgUAAAAAAAAA0QHE9CtejdHtASOF6FK4Vh0B7FK5HYfigQBSuR+F6PGFA",
          "dtype": "f8"
         },
         "yaxis": "y3"
        },
        {
         "marker": {
          "color": "red"
         },
         "name": "Spending Variance",
         "type": "bar",
         "x": [
          "2025-07",
          "2025-08"
         ],
         "xaxis": "x4",
         "y": {
          "_inputArray": {
           "0": 740.4495859820252,
           "1": 11606.24983390653,
           "bdata": "TgyJwJgjh0D9tI76H6vGQA==",
           "dtype": "f8",
           "shape": "2"
          },
          "bdata": "TgyJwJgjh0D9tI76H6vGQA==",
          "dtype": "f8"
         },
         "yaxis": "y4"
        }
       ],
       "layout": {
        "annotations": [
         {
          "font": {
           "size": 16
          },
          "showarrow": false,
          "text": "Cumulative Spending Over Time",
          "x": 0.225,
          "xanchor": "center",
          "xref": "paper",
          "y": 1,
          "yanchor": "bottom",
          "yref": "paper"
         },
         {
          "font": {
           "size": 16
          },
          "showarrow": false,
          "text": "Transaction Size Distribution",
          "x": 0.775,
          "xanchor": "center",
          "xref": "paper",
          "y": 1,
          "yanchor": "bottom",
          "yref": "paper"
         },
         {
          "font": {
           "size": 16
          },
          "showarrow": false,
          "text": "Weekend vs Weekday Spending",
          "x": 0.225,
          "xanchor": "center",
          "xref": "paper",
          "y": 0.375,
          "yanchor": "bottom",
          "yref": "paper"
         },
         {
          "font": {
           "size": 16
          },
          "showarrow": false,
          "text": "Monthly Spending Variance",
          "x": 0.775,
          "xanchor": "center",
          "xref": "paper",
          "y": 0.375,
          "yanchor": "bottom",
          "yref": "paper"
         }
        ],
        "autosize": true,
        "template": {
         "data": {
          "bar": [
           {
            "error_x": {
             "color": "#2a3f5f"
            },
            "error_y": {
             "color": "#2a3f5f"
            },
            "marker": {
             "line": {
              "color": "#E5ECF6",
              "width": 0.5
             },
             "pattern": {
              "fillmode": "overlay",
              "size": 10,
              "solidity": 0.2
             }
            },
            "type": "bar"
           }
          ],
          "barpolar": [
           {
            "marker": {
             "line": {
              "color": "#E5ECF6",
              "width": 0.5
             },
             "pattern": {
              "fillmode": "overlay",
              "size": 10,
              "solidity": 0.2
             }
            },
            "type": "barpolar"
           }
          ],
          "carpet": [
           {
            "aaxis": {
             "endlinecolor": "#2a3f5f",
             "gridcolor": "white",
             "linecolor": "white",
             "minorgridcolor": "white",
             "startlinecolor": "#2a3f5f"
            },
            "baxis": {
             "endlinecolor": "#2a3f5f",
             "gridcolor": "white",
             "linecolor": "white",
             "minorgridcolor": "white",
             "startlinecolor": "#2a3f5f"
            },
            "type": "carpet"
           }
          ],
          "choropleth": [
           {
            "colorbar": {
             "outlinewidth": 0,
             "ticks": ""
            },
            "type": "choropleth"
           }
          ],
          "contour": [
           {
            "colorbar": {
             "outlinewidth": 0,
             "ticks": ""
            },
            "colorscale": [
             [
              0,
              "#0d0887"
             ],
             [
              0.1111111111111111,
              "#46039f"
             ],
             [
              0.2222222222222222,
              "#7201a8"
             ],
             [
              0.3333333333333333,
              "#9c179e"
             ],
             [
              0.4444444444444444,
              "#bd3786"
             ],
             [
              0.5555555555555556,
              "#d8576b"
             ],
             [
              0.6666666666666666,
              "#ed7953"
             ],
             [
              0.7777777777777778,
              "#fb9f3a"
             ],
             [
              0.8888888888888888,
              "#fdca26"
             ],
             [
              1,
              "#f0f921"
             ]
            ],
            "type": "contour"
           }
          ],
          "contourcarpet": [
           {
            "colorbar": {
             "outlinewidth": 0,
             "ticks": ""
            },
            "type": "contourcarpet"
           }
          ],
          "heatmap": [
           {
            "colorbar": {
             "outlinewidth": 0,
             "ticks": ""
            },
            "colorscale": [
             [
              0,
              "#0d0887"
             ],
             [
              0.1111111111111111,
              "#46039f"
             ],
             [
              0.2222222222222222,
              "#7201a8"
             ],
             [
              0.3333333333333333,
              "#9c179e"
             ],
             [
              0.4444444444444444,
              "#bd3786"
             ],
             [
              0.5555555555555556,
              "#d8576b"
             ],
             [
              0.6666666666666666,
              "#ed7953"
             ],
             [
              0.7777777777777778,
              "#fb9f3a"
             ],
             [
              0.8888888888888888,
              "#fdca26"
             ],
             [
              1,
              "#f0f921"
             ]
            ],
            "type": "heatmap"
           }
          ],
          "histogram": [
           {
            "marker": {
             "pattern": {
              "fillmode": "overlay",
              "size": 10,
              "solidity": 0.2
             }
            },
            "type": "histogram"
           }
          ],
          "histogram2d": [
           {
            "colorbar": {
             "outlinewidth": 0,
             "ticks": ""
            },
            "colorscale": [
             [
              0,
              "#0d0887"
             ],
             [
              0.1111111111111111,
              "#46039f"
             ],
             [
              0.2222222222222222,
              "#7201a8"
             ],
             [
              0.3333333333333333,
              "#9c179e"
             ],
             [
              0.4444444444444444,
              "#bd3786"
             ],
             [
              0.5555555555555556,
              "#d8576b"
             ],
             [
              0.6666666666666666,
              "#ed7953"
             ],
             [
              0.7777777777777778,
              "#fb9f3a"
             ],
             [
              0.8888888888888888,
              "#fdca26"
             ],
             [
              1,
              "#f0f921"
             ]
            ],
            "type": "histogram2d"
           }
          ],
          "histogram2dcontour": [
           {
            "colorbar": {
             "outlinewidth": 0,
             "ticks": ""
            },
            "colorscale": [
             [
              0,
              "#0d0887"
             ],
             [
              0.1111111111111111,
              "#46039f"
             ],
             [
              0.2222222222222222,
              "#7201a8"
             ],
             [
              0.3333333333333333,
              "#9c179e"
             ],
             [
              0.4444444444444444,
              "#bd3786"
             ],
             [
              0.5555555555555556,
              "#d8576b"
             ],
             [
              0.6666666666666666,
              "#ed7953"
             ],
             [
              0.7777777777777778,
              "#fb9f3a"
             ],
             [
              0.8888888888888888,
              "#fdca26"
             ],
             [
              1,
              "#f0f921"
             ]
            ],
            "type": "histogram2dcontour"
           }
          ],
          "mesh3d": [
           {
            "colorbar": {
             "outlinewidth": 0,
             "ticks": ""
            },
            "type": "mesh3d"
           }
          ],
          "parcoords": [
           {
            "line": {
             "colorbar": {
              "outlinewidth": 0,
              "ticks": ""
             }
            },
            "type": "parcoords"
           }
          ],
          "pie": [
           {
            "automargin": true,
            "type": "pie"
           }
          ],
          "scatter": [
           {
            "fillpattern": {
             "fillmode": "overlay",
             "size": 10,
             "solidity": 0.2
            },
            "type": "scatter"
           }
          ],
          "scatter3d": [
           {
            "line": {
             "colorbar": {
              "outlinewidth": 0,
              "ticks": ""
             }
            },
            "marker": {
             "colorbar": {
              "outlinewidth": 0,
              "ticks": ""
             }
            },
            "type": "scatter3d"
           }
          ],
          "scattercarpet": [
           {
            "marker": {
             "colorbar": {
              "outlinewidth": 0,
              "ticks": ""
             }
            },
            "type": "scattercarpet"
           }
          ],
          "scattergeo": [
           {
            "marker": {
             "colorbar": {
              "outlinewidth": 0,
              "ticks": ""
             }
            },
            "type": "scattergeo"
           }
          ],
          "scattergl": [
           {
            "marker": {
             "colorbar": {
              "outlinewidth": 0,
              "ticks": ""
             }
            },
            "type": "scattergl"
           }
          ],
          "scattermap": [
           {
            "marker": {
             "colorbar": {
              "outlinewidth": 0,
              "ticks": ""
             }
            },
            "type": "scattermap"
           }
          ],
          "scattermapbox": [
           {
            "marker": {
             "colorbar": {
              "outlinewidth": 0,
              "ticks": ""
             }
            },
            "type": "scattermapbox"
           }
          ],
          "scatterpolar": [
           {
            "marker": {
             "colorbar": {
              "outlinewidth": 0,
              "ticks": ""
             }
            },
            "type": "scatterpolar"
           }
          ],
          "scatterpolargl": [
           {
            "marker": {
             "colorbar": {
              "outlinewidth": 0,
              "ticks": ""
             }
            },
            "type": "scatterpolargl"
           }
          ],
          "scatterternary": [
           {
            "marker": {
             "colorbar": {
              "outlinewidth": 0,
              "ticks": ""
             }
            },
            "type": "scatterternary"
           }
          ],
          "surface": [
           {
            "colorbar": {
             "outlinewidth": 0,
             "ticks": ""
            },
            "colorscale": [
             [
              0,
              "#0d0887"
             ],
             [
              0.1111111111111111,
              "#46039f"
             ],
             [
              0.2222222222222222,
              "#7201a8"
             ],
             [
              0.3333333333333333,
              "#9c179e"
             ],
             [
              0.4444444444444444,
              "#bd3786"
             ],
             [
              0.5555555555555556,
              "#d8576b"
             ],
             [
              0.6666666666666666,
              "#ed7953"
             ],
             [
              0.7777777777777778,
              "#fb9f3a"
             ],
             [
              0.8888888888888888,
              "#fdca26"
             ],
             [
              1,
              "#f0f921"
             ]
            ],
            "type": "surface"
           }
          ],
          "table": [
           {
            "cells": {
             "fill": {
              "color": "#EBF0F8"
             },
             "line": {
              "color": "white"
             }
            },
            "header": {
             "fill": {
              "color": "#C8D4E3"
             },
             "line": {
              "color": "white"
             }
            },
            "type": "table"
           }
          ]
         },
         "layout": {
          "annotationdefaults": {
           "arrowcolor": "#2a3f5f",
           "arrowhead": 0,
           "arrowwidth": 1
          },
          "autotypenumbers": "strict",
          "coloraxis": {
           "colorbar": {
            "outlinewidth": 0,
            "ticks": ""
           }
          },
          "colorscale": {
           "diverging": [
            [
             0,
             "#8e0152"
            ],
            [
             0.1,
             "#c51b7d"
            ],
            [
             0.2,
             "#de77ae"
            ],
            [
             0.3,
             "#f1b6da"
            ],
            [
             0.4,
             "#fde0ef"
            ],
            [
             0.5,
             "#f7f7f7"
            ],
            [
             0.6,
             "#e6f5d0"
            ],
            [
             0.7,
             "#b8e186"
            ],
            [
             0.8,
             "#7fbc41"
            ],
            [
             0.9,
             "#4d9221"
            ],
            [
             1,
             "#276419"
            ]
           ],
           "sequential": [
            [
             0,
             "#0d0887"
            ],
            [
             0.1111111111111111,
             "#46039f"
            ],
            [
             0.2222222222222222,
             "#7201a8"
            ],
            [
             0.3333333333333333,
             "#9c179e"
            ],
            [
             0.4444444444444444,
             "#bd3786"
            ],
            [
             0.5555555555555556,
             "#d8576b"
            ],
            [
             0.6666666666666666,
             "#ed7953"
            ],
            [
             0.7777777777777778,
             "#fb9f3a"
            ],
            [
             0.8888888888888888,
             "#fdca26"
            ],
            [
             1,
             "#f0f921"
            ]
           ],
           "sequentialminus": [
            [
             0,
             "#0d0887"
            ],
            [
             0.1111111111111111,
             "#46039f"
            ],
            [
             0.2222222222222222,
             "#7201a8"
            ],
            [
             0.3333333333333333,
             "#9c179e"
            ],
            [
             0.4444444444444444,
             "#bd3786"
            ],
            [
             0.5555555555555556,
             "#d8576b"
            ],
            [
             0.6666666666666666,
             "#ed7953"
            ],
            [
             0.7777777777777778,
             "#fb9f3a"
            ],
            [
             0.8888888888888888,
             "#fdca26"
            ],
            [
             1,
             "#f0f921"
            ]
           ]
          },
          "colorway": [
           "#636efa",
           "#EF553B",
           "#00cc96",
           "#ab63fa",
           "#FFA15A",
           "#19d3f3",
           "#FF6692",
           "#B6E880",
           "#FF97FF",
           "#FECB52"
          ],
          "font": {
           "color": "#2a3f5f"
          },
          "geo": {
           "bgcolor": "white",
           "lakecolor": "white",
           "landcolor": "#E5ECF6",
           "showlakes": true,
           "showland": true,
           "subunitcolor": "white"
          },
          "hoverlabel": {
           "align": "left"
          },
          "hovermode": "closest",
          "mapbox": {
           "style": "light"
          },
          "paper_bgcolor": "white",
          "plot_bgcolor": "#E5ECF6",
          "polar": {
           "angularaxis": {
            "gridcolor": "white",
            "linecolor": "white",
            "ticks": ""
           },
           "bgcolor": "#E5ECF6",
           "radialaxis": {
            "gridcolor": "white",
            "linecolor": "white",
            "ticks": ""
           }
          },
          "scene": {
           "xaxis": {
            "backgroundcolor": "#E5ECF6",
            "gridcolor": "white",
            "gridwidth": 2,
            "linecolor": "white",
            "showbackground": true,
            "ticks": "",
            "zerolinecolor": "white"
           },
           "yaxis": {
            "backgroundcolor": "#E5ECF6",
            "gridcolor": "white",
            "gridwidth": 2,
            "linecolor": "white",
            "showbackground": true,
            "ticks": "",
            "zerolinecolor": "white"
           },
           "zaxis": {
            "backgroundcolor": "#E5ECF6",
            "gridcolor": "white",
            "gridwidth": 2,
            "linecolor": "white",
            "showbackground": true,
            "ticks": "",
            "zerolinecolor": "white"
           }
          },
          "shapedefaults": {
           "line": {
            "color": "#2a3f5f"
           }
          },
          "ternary": {
           "aaxis": {
            "gridcolor": "white",
            "linecolor": "white",
            "ticks": ""
           },
           "baxis": {
            "gridcolor": "white",
            "linecolor": "white",
            "ticks": ""
           },
           "bgcolor": "#E5ECF6",
           "caxis": {
            "gridcolor": "white",
            "linecolor": "white",
            "ticks": ""
           }
          },
          "title": {
           "x": 0.05
          },
          "xaxis": {
           "automargin": true,
           "gridcolor": "white",
           "linecolor": "white",
           "ticks": "",
           "title": {
            "standoff": 15
           },
           "zerolinecolor": "white",
           "zerolinewidth": 2
          },
          "yaxis": {
           "automargin": true,
           "gridcolor": "white",
           "linecolor": "white",
           "ticks": "",
           "title": {
            "standoff": 15
           },
           "zerolinecolor": "white",
           "zerolinewidth": 2
          }
         }
        },
        "title": {
         "text": "🔍 Advanced Financial Analytics"
        },
        "xaxis": {
         "anchor": "y",
         "autorange": true,
         "domain": [
          0,
          0.45
         ],
         "range": [
          "2025-07-07",
          "2025-08-19"
         ],
         "type": "date"
        },
        "xaxis2": {
         "anchor": "y2",
         "autorange": true,
         "domain": [
          0.55,
          1
         ],
         "range": [
          -500,
          30500
         ],
         "type": "linear"
        },
        "xaxis3": {
         "anchor": "y3",
         "autorange": true,
         "domain": [
          0,
          0.45
         ],
         "range": [
          -0.5,
          0.5
         ],
         "type": "category"
        },
        "xaxis4": {
         "anchor": "y4",
         "autorange": true,
         "domain": [
          0.55,
          1
         ],
         "range": [
          "2025-06-15 12:00",
          "2025-08-16 12:00"
         ],
         "type": "date"
        },
        "yaxis": {
         "anchor": "x",
         "autorange": true,
         "domain": [
          0.625,
          1
         ],
         "range": [
          -936.103333333333,
          61229.76333333333
         ],
         "type": "linear"
        },
        "yaxis2": {
         "anchor": "x2",
         "autorange": true,
         "domain": [
          0.625,
          1
         ],
         "range": [
          0,
          8.421052631578947
         ]
        },
        "yaxis3": {
         "anchor": "x3",
         "autorange": true,
         "domain": [
          0,
          0.375
         ],
         "range": [
          -1645.5555555555557,
          31665.555555555555
         ],
         "type": "linear"
        },
        "yaxis4": {
         "anchor": "x4",
         "autorange": true,
         "domain": [
          0,
          0.375
         ],
         "range": [
          0,
          12217.105088322664
         ],
         "type": "linear"
        }
       }
      },
      "image/png": "[encoded data removed]"
     },
     "metadata": {},
     "output_type": "display_data"
    }
   ],
   "source": [
    "# Find unusual transactions (outliers)\n",
    "def find_outliers(data, column, threshold=2):\n",
    "    \"\"\"Find outliers using z-score method\"\"\"\n",
    "    z_scores = np.abs((data[column] - data[column].mean()) / data[column].std())\n",
    "    return data[z_scores > threshold]\n",
    "\n",
    "# Analyze large transactions\n",
    "large_expenses = expense_data[expense_data['abs_amount'] > expense_data['abs_amount'].quantile(0.95)]\n",
    "large_income = df[(df['amount'] > 0) & (df['amount'] > df[df['amount'] > 0]['amount'].quantile(0.95))]\n",
    "\n",
    "print(\"🔍 UNUSUAL TRANSACTIONS ANALYSIS\")\n",
    "print(\"=\" * 70)\n",
    "print(f\"\\n💸 Large Expenses (Top 5% - above ${expense_data['abs_amount'].quantile(0.95):.2f}):\")\n",
    "for _, tx in large_expenses.head(5).iterrows():\n",
    "    print(f\"   ${tx['abs_amount']:>8,.2f} - {tx['description'][:40]} ({tx['category']})\")\n",
    "\n",
    "print(f\"\\n💰 Large Income (Top 5% - above ${df[df['amount'] > 0]['amount'].quantile(0.95):.2f}):\")\n",
    "for _, tx in large_income.head(5).iterrows():\n",
    "    print(f\"   ${tx['amount']:>8,.2f} - {tx['description'][:40]} ({tx['category']})\")\n",
    "\n",
    "# Spending velocity analysis\n",
    "df['days_since_start'] = (df['date'] - df['date'].min()).dt.days\n",
    "expense_data_sorted = expense_data.sort_values('date')\n",
    "expense_data_sorted['cumulative_spending'] = expense_data_sorted['abs_amount'].cumsum()\n",
    "\n",
    "# Find spending patterns\n",
    "weekend_spending = expense_data[expense_data['is_weekend']]['abs_amount'].mean()\n",
    "weekday_spending = expense_data[~expense_data['is_weekend']]['abs_amount'].mean()\n",
    "\n",
    "print(f\"\\n📊 SPENDING PATTERNS:\")\n",
    "print(f\"Weekend avg transaction: ${weekend_spending:.2f}\")\n",
    "print(f\"Weekday avg transaction: ${weekday_spending:.2f}\")\n",
    "print(f\"Weekend vs Weekday ratio: {weekend_spending/weekday_spending:.2f}x\")\n",
    "\n",
    "# Create advanced analytics visualization\n",
    "fig = make_subplots(\n",
    "    rows=2, cols=2,\n",
    "    subplot_titles=('Cumulative Spending Over Time', 'Transaction Size Distribution',\n",
    "                   'Weekend vs Weekday Spending', 'Monthly Spending Variance'),\n",
    "    specs=[[{\"type\": \"scatter\"}, {\"type\": \"histogram\"}],\n",
    "           [{\"type\": \"box\"}, {\"type\": \"bar\"}]]\n",
    ")\n",
    "\n",
    "# Cumulative spending\n",
    "fig.add_trace(\n",
    "    go.Scatter(x=expense_data_sorted['date'], y=expense_data_sorted['cumulative_spending'],\n",
    "               mode='lines', name='Cumulative Spending'),\n",
    "    row=1, col=1\n",
    ")\n",
    "\n",
    "# Transaction size distribution\n",
    "fig.add_trace(\n",
    "    go.Histogram(x=expense_data['abs_amount'], nbinsx=30, name='Transaction Sizes'),\n",
    "    row=1, col=2\n",
    ")\n",
    "\n",
    "# Weekend vs Weekday box plot\n",
    "fig.add_trace(\n",
    "    go.Box(y=expense_data[expense_data['is_weekend']]['abs_amount'], name='Weekend'),\n",
    "    row=2, col=1\n",
    ")\n",
    "fig.add_trace(\n",
    "    go.Box(y=expense_data[~expense_data['is_weekend']]['abs_amount'], name='Weekday'),\n",
    "    row=2, col=1\n",
    ")\n",
    "\n",
    "# Monthly variance\n",
    "monthly_variance = expense_data.groupby('month')['abs_amount'].std()\n",
    "fig.add_trace(\n",
    "    go.Bar(x=monthly_variance.index.astype(str), y=monthly_variance.values,\n",
    "           name='Spending Variance', marker_color='red'),\n",
    "    row=2, col=2\n",
    ")\n",
    "\n",
    "fig.update_layout(height=800, title_text=\"🔍 Advanced Financial Analytics\")\n",
    "fig.show()"
   ]
  },
  {
   "cell_type": "markdown",
   "metadata": {},
   "source": [
    "## 📋 Financial Health Report"
   ]
  },
  {
   "cell_type": "code",
   "execution_count": 9,
   "metadata": {},
   "outputs": [
    {
     "name": "stdout",
     "output_type": "stream",
     "text": [
      "🏥 FINANCIAL HEALTH REPORT\n",
      "==================================================\n",
      "\n",
      "📊 Overall Health Score: 50/100\n",
      "⚠️ Fair. There are several areas that need attention.\n",
      "\n",
      "📋 Key Metrics:\n",
      "   • Savings Rate: 16.9%\n",
      "   • Categories Used: 3\n",
      "   • Avg Monthly Income: $34,956.26\n",
      "   • Avg Monthly Expenses: $29,060.73\n",
      "\n",
      "💡 Recommendations:\n",
      "   1. 💡 Try to increase your savings rate to 20% or higher\n",
      "   2. 📊 Consider categorizing your expenses more specifically for better tracking\n",
      "   3. 💼 Your income varies significantly. Consider building an emergency fund\n",
      "   4. 💳 Your spending varies a lot. Try to create and stick to a budget\n",
      "\n",
      "✅ Analysis complete! Database connection closed.\n"
     ]
    }
   ],
   "source": [
    "# Generate a comprehensive financial health report\n",
    "def generate_financial_health_score():\n",
    "    score = 0\n",
    "    max_score = 100\n",
    "    recommendations = []\n",
    "    \n",
    "    # Savings rate (30 points)\n",
    "    savings_rate = (net_worth_change / total_income) * 100\n",
    "    if savings_rate >= 20:\n",
    "        score += 30\n",
    "    elif savings_rate >= 10:\n",
    "        score += 20\n",
    "        recommendations.append(\"💡 Try to increase your savings rate to 20% or higher\")\n",
    "    elif savings_rate >= 0:\n",
    "        score += 10\n",
    "        recommendations.append(\"⚠️ Your savings rate is low. Consider reducing expenses or increasing income\")\n",
    "    else:\n",
    "        recommendations.append(\"🚨 You're spending more than you earn. This needs immediate attention\")\n",
    "    \n",
    "    # Expense diversity (20 points)\n",
    "    unique_categories = len(expense_data['category'].unique())\n",
    "    if unique_categories >= 8:\n",
    "        score += 20\n",
    "    elif unique_categories >= 5:\n",
    "        score += 15\n",
    "    else:\n",
    "        score += 10\n",
    "        recommendations.append(\"📊 Consider categorizing your expenses more specifically for better tracking\")\n",
    "    \n",
    "    # Regular income (25 points)\n",
    "    income_consistency = df[df['amount'] > 0].groupby('month')['amount'].sum().std()\n",
    "    income_mean = df[df['amount'] > 0].groupby('month')['amount'].sum().mean()\n",
    "    cv = income_consistency / income_mean if income_mean > 0 else 1\n",
    "    \n",
    "    if cv < 0.1:\n",
    "        score += 25\n",
    "    elif cv < 0.3:\n",
    "        score += 20\n",
    "    else:\n",
    "        score += 10\n",
    "        recommendations.append(\"💼 Your income varies significantly. Consider building an emergency fund\")\n",
    "    \n",
    "    # Spending control (25 points)\n",
    "    expense_consistency = expense_data.groupby('month')['abs_amount'].sum().std()\n",
    "    expense_mean = expense_data.groupby('month')['abs_amount'].sum().mean()\n",
    "    expense_cv = expense_consistency / expense_mean if expense_mean > 0 else 1\n",
    "    \n",
    "    if expense_cv < 0.2:\n",
    "        score += 25\n",
    "    elif expense_cv < 0.4:\n",
    "        score += 20\n",
    "    else:\n",
    "        score += 10\n",
    "        recommendations.append(\"💳 Your spending varies a lot. Try to create and stick to a budget\")\n",
    "    \n",
    "    return score, recommendations\n",
    "\n",
    "health_score, recommendations = generate_financial_health_score()\n",
    "\n",
    "print(\"🏥 FINANCIAL HEALTH REPORT\")\n",
    "print(\"=\" * 50)\n",
    "print(f\"\\n📊 Overall Health Score: {health_score}/100\")\n",
    "\n",
    "if health_score >= 80:\n",
    "    print(\"🎉 Excellent! Your finances are in great shape!\")\n",
    "elif health_score >= 60:\n",
    "    print(\"👍 Good! You're on the right track with some room for improvement.\")\n",
    "elif health_score >= 40:\n",
    "    print(\"⚠️ Fair. There are several areas that need attention.\")\n",
    "else:\n",
    "    print(\"🚨 Poor. Your finances need immediate attention.\")\n",
    "\n",
    "print(\"\\n📋 Key Metrics:\")\n",
    "print(f\"   • Savings Rate: {(net_worth_change/total_income*100):.1f}%\")\n",
    "print(f\"   • Categories Used: {len(expense_data['category'].unique())}\")\n",
    "print(f\"   • Avg Monthly Income: ${avg_monthly_income:,.2f}\")\n",
    "print(f\"   • Avg Monthly Expenses: ${abs(avg_monthly_expenses):,.2f}\")\n",
    "\n",
    "if recommendations:\n",
    "    print(\"\\n💡 Recommendations:\")\n",
    "    for i, rec in enumerate(recommendations, 1):\n",
    "        print(f\"   {i}. {rec}\")\n",
    "\n",
    "# Close database connection\n",
    "conn.close()\n",
    "print(\"\\n✅ Analysis complete! Database connection closed.\")"
   ]
  },
  {
   "cell_type": "markdown",
   "metadata": {},
   "source": [
    "## 🚀 Next Steps\n",
    "\n",
    "Now that you've analyzed your financial data, here are some actions you can take:\n",
    "\n",
    "### 📊 **Data Quality**\n",
    "- Review uncategorized transactions and assign proper categories\n",
    "- Use the auto-categorization feature in the web app\n",
    "- Import more historical data for better trend analysis\n",
    "\n",
    "### 💰 **Budget Management**\n",
    "- Set up monthly budgets based on the analysis above\n",
    "- Track your progress against these budgets\n",
    "- Adjust spending in over-budget categories\n",
    "\n",
    "### 📈 **Financial Goals**\n",
    "- Set a target savings rate (recommended: 20%+)\n",
    "- Create an emergency fund (3-6 months of expenses)\n",
    "- Plan for major purchases or investments\n",
    "\n",
    "### 🔄 **Regular Monitoring**\n",
    "- Run this analysis monthly to track progress\n",
    "- Set up alerts for unusual spending patterns\n",
    "- Review and adjust your financial strategy quarterly\n",
    "\n",
    "---\n",
    "\n",
    "**💡 Pro Tip**: Save this notebook and run it regularly with updated data to track your financial progress over time!"
   ]
  },
  {
   "cell_type": "code",
   "execution_count": null,
   "metadata": {},
   "outputs": [],
   "source": []
  }
 ],
 "metadata": {
  "kernelspec": {
   "display_name": "Python 3 (ipykernel)",
   "language": "python",
   "name": "python3"
  },
  "language_info": {
   "codemirror_mode": {
    "name": "ipython",
    "version": 3
   },
   "file_extension": ".py",
   "mimetype": "text/x-python",
   "name": "python",
   "nbconvert_exporter": "python",
   "pygments_lexer": "ipython3",
   "version": "3.11.6"
  }
 },
 "nbformat": 4,
 "nbformat_minor": 4
}
